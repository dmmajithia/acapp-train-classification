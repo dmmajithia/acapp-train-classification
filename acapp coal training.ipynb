{
  "nbformat": 4,
  "nbformat_minor": 0,
  "metadata": {
    "kernelspec": {
      "display_name": "Python 3",
      "language": "python",
      "name": "python3"
    },
    "language_info": {
      "codemirror_mode": {
        "name": "ipython",
        "version": 3
      },
      "file_extension": ".py",
      "mimetype": "text/x-python",
      "name": "python",
      "nbconvert_exporter": "python",
      "pygments_lexer": "ipython3",
      "version": "3.7.9"
    },
    "colab": {
      "name": "acapp coal training.ipynb",
      "provenance": [],
      "include_colab_link": true
    },
    "accelerator": "GPU"
  },
  "cells": [
    {
      "cell_type": "markdown",
      "metadata": {
        "id": "view-in-github",
        "colab_type": "text"
      },
      "source": [
        "<a href=\"https://colab.research.google.com/github/dmmajithia/acapp-train-classification/blob/main/acapp%20coal%20training.ipynb\" target=\"_parent\"><img src=\"https://colab.research.google.com/assets/colab-badge.svg\" alt=\"Open In Colab\"/></a>"
      ]
    },
    {
      "cell_type": "code",
      "metadata": {
        "id": "vRrrE_cG6EEs"
      },
      "source": [
        "import os\n",
        "# os.environ[\"KERAS_BACKEND\"] = \"plaidml.keras.backend\"\n",
        "import tensorflow.keras as keras\n",
        "from keras.models import load_model\n",
        "from keras.preprocessing.image import ImageDataGenerator\n",
        "\n",
        "import numpy as np\n",
        "import cv2\n",
        "import os\n",
        "import matplotlib.pyplot as plt\n",
        "%matplotlib inline\n",
        "\n",
        "from keras.models import Sequential\n",
        "from keras.layers import Dense, Conv2D, Dropout, Flatten, MaxPooling2D"
      ],
      "execution_count": 2,
      "outputs": []
    },
    {
      "cell_type": "code",
      "metadata": {
        "id": "g8iqjTI86EEx"
      },
      "source": [
        "train_data_dir = '/content/acapp-train-classification/acapp_data/training_images/'"
      ],
      "execution_count": 3,
      "outputs": []
    },
    {
      "cell_type": "code",
      "metadata": {
        "id": "i2GT7RW96mXt",
        "outputId": "aa4474d6-c025-4b30-a756-1abe7630b37a",
        "colab": {
          "base_uri": "https://localhost:8080/",
          "height": 153
        }
      },
      "source": [
        "!git clone https://github.com/dmmajithia/acapp-train-classification.git"
      ],
      "execution_count": 1,
      "outputs": [
        {
          "output_type": "stream",
          "text": [
            "Cloning into 'acapp-train-classification'...\n",
            "remote: Enumerating objects: 3, done.\u001b[K\n",
            "remote: Counting objects: 100% (3/3), done.\u001b[K\n",
            "remote: Compressing objects: 100% (3/3), done.\u001b[K\n",
            "remote: Total 44055 (delta 0), reused 0 (delta 0), pack-reused 44052\u001b[K\n",
            "Receiving objects: 100% (44055/44055), 704.47 MiB | 38.44 MiB/s, done.\n",
            "Resolving deltas: 100% (10/10), done.\n",
            "Checking out files: 100% (43326/43326), done.\n"
          ],
          "name": "stdout"
        }
      ]
    },
    {
      "cell_type": "code",
      "metadata": {
        "id": "iaXIeZgk6EE0",
        "outputId": "c6690d74-9c0c-49ea-e08e-2874d15f7cb2",
        "colab": {
          "base_uri": "https://localhost:8080/",
          "height": 51
        }
      },
      "source": [
        "img_height, img_width = 300,300\n",
        "batch_size = 100\n",
        "train_datagen = ImageDataGenerator(rescale=1./255,\n",
        "    validation_split=0.3) # set validation split\n",
        "\n",
        "train_generator = train_datagen.flow_from_directory(\n",
        "    train_data_dir,\n",
        "    target_size=(img_height, img_width),\n",
        "    batch_size=batch_size,\n",
        "    shuffle=True,\n",
        "    class_mode='sparse',\n",
        "    subset='training') # set as training data\n",
        "\n",
        "validation_generator = train_datagen.flow_from_directory(\n",
        "    train_data_dir, # same directory as training data\n",
        "    target_size=(img_height, img_width),\n",
        "    batch_size=batch_size,\n",
        "    shuffle=True\n",
        "    class_mode='sparse',\n",
        "    subset='validation') # set as validation data"
      ],
      "execution_count": 48,
      "outputs": [
        {
          "output_type": "stream",
          "text": [
            "Found 3026 images belonging to 5 classes.\n",
            "Found 1294 images belonging to 5 classes.\n"
          ],
          "name": "stdout"
        }
      ]
    },
    {
      "cell_type": "code",
      "metadata": {
        "id": "gtoILPUi6EE4"
      },
      "source": [
        "# acc = 85-90, batch_size = 100, epochs = 10\n",
        "input_shape = (300, 300, 3)\n",
        "# Creating a Sequential Model and adding the layers\n",
        "model = Sequential()\n",
        "model.add(Conv2D(32, kernel_size=(3,3), input_shape=input_shape))\n",
        "model.add(MaxPooling2D(pool_size=(2, 2)))\n",
        "model.add(Conv2D(64, kernel_size=(3,3)))\n",
        "model.add(MaxPooling2D(pool_size=(2, 2)))\n",
        "# model.add(Conv2D(64, kernel_size=(3,3)))\n",
        "# model.add(MaxPooling2D(pool_size=(2, 2)))\n",
        "model.add(Conv2D(128, kernel_size=(3,3)))\n",
        "model.add(MaxPooling2D(pool_size=(2, 2)))\n",
        "model.add(Flatten()) # Flattening the 2D arrays for fully connected layers\n",
        "model.add(Dense(64, activation='relu'))\n",
        "model.add(Dropout(0.1))\n",
        "# model.add(Dense(128, activation='relu'))\n",
        "# model.add(Dropout(0.2))\n",
        "model.add(Dense(5,activation='softmax'))"
      ],
      "execution_count": 60,
      "outputs": []
    },
    {
      "cell_type": "code",
      "metadata": {
        "id": "TSyZBFAoCOeO"
      },
      "source": [
        "# input_shape = (300, 300, 3)\n",
        "# # Creating a Sequential Model and adding the layers\n",
        "# model = Sequential()\n",
        "# model.add(Conv2D(32, kernel_size=(3,3), input_shape=input_shape))\n",
        "# model.add(MaxPooling2D(pool_size=(2, 2)))\n",
        "# model.add(Conv2D(32, kernel_size=(3,3)))\n",
        "# model.add(MaxPooling2D(pool_size=(2, 2)))\n",
        "# # model.add(Conv2D(64, kernel_size=(3,3)))\n",
        "# # model.add(MaxPooling2D(pool_size=(2, 2)))\n",
        "# # model.add(Conv2D(128, kernel_size=(3,3)))\n",
        "# # model.add(MaxPooling2D(pool_size=(2, 2)))\n",
        "# model.add(Flatten()) # Flattening the 2D arrays for fully connected layers\n",
        "# model.add(Dense(64, activation='relu'))\n",
        "# model.add(Dropout(0.1))\n",
        "# # model.add(Dense(128, activation='relu'))\n",
        "# # model.add(Dropout(0.2))\n",
        "# model.add(Dense(5,activation='softmax'))"
      ],
      "execution_count": 54,
      "outputs": []
    },
    {
      "cell_type": "code",
      "metadata": {
        "id": "To3RyT1u6EE7"
      },
      "source": [
        "model.compile(optimizer='adam', \n",
        "              loss='sparse_categorical_crossentropy', \n",
        "              metrics=['accuracy'])"
      ],
      "execution_count": 61,
      "outputs": []
    },
    {
      "cell_type": "code",
      "metadata": {
        "id": "KQm1vPu16EE-",
        "outputId": "98dc34cd-6c4b-4be0-84ea-6b31f3e6a520",
        "colab": {
          "base_uri": "https://localhost:8080/",
          "height": 105
        }
      },
      "source": [
        "epochs = 20\n",
        "\n",
        "history = model.fit_generator(\n",
        "    train_generator,\n",
        "    steps_per_epoch=int(np.ceil(train_generator.n / float(batch_size))),\n",
        "    epochs=epochs,\n",
        "    validation_data=validation_generator,\n",
        "    validation_steps=int(np.ceil(validation_generator.n / float(batch_size)))\n",
        ")"
      ],
      "execution_count": null,
      "outputs": [
        {
          "output_type": "stream",
          "text": [
            "Epoch 1/20\n",
            "31/31 [==============================] - 15s 491ms/step - loss: 2.6637 - accuracy: 0.6576 - val_loss: 0.5069 - val_accuracy: 0.8292\n",
            "Epoch 2/20\n",
            "10/31 [========>.....................] - ETA: 7s - loss: 0.3104 - accuracy: 0.8790"
          ],
          "name": "stdout"
        }
      ]
    },
    {
      "cell_type": "code",
      "metadata": {
        "id": "jXGVov3q6EFB",
        "outputId": "a0c0a237-550e-47d4-cb4c-9501d1ff9df7",
        "colab": {
          "base_uri": "https://localhost:8080/",
          "height": 295
        }
      },
      "source": [
        "# summarize history for accuracy\n",
        "plt.plot(history.history['accuracy'])\n",
        "plt.plot(history.history['val_accuracy'])\n",
        "plt.title('model accuracy')\n",
        "plt.ylabel('accuracy')\n",
        "plt.xlabel('epoch')\n",
        "plt.legend(['train', 'val'], loc='upper left')\n",
        "plt.show()"
      ],
      "execution_count": 58,
      "outputs": [
        {
          "output_type": "display_data",
          "data": {
            "image/png": "[encoded data removed]",
            "text/plain": [
              "<Figure size 432x288 with 1 Axes>"
            ]
          },
          "metadata": {
            "tags": [],
            "needs_background": "light"
          }
        }
      ]
    },
    {
      "cell_type": "code",
      "metadata": {
        "id": "4BneoyexGXJS",
        "outputId": "cac0ac9e-8eed-4c21-8cf3-1e5c7ba9f8b5",
        "colab": {
          "base_uri": "https://localhost:8080/",
          "height": 295
        }
      },
      "source": [
        "# summarize history for loss\n",
        "plt.plot(history.history['loss'])\n",
        "plt.plot(history.history['val_loss'])\n",
        "plt.title('model loss')\n",
        "plt.ylabel('loss')\n",
        "plt.xlabel('epoch')\n",
        "plt.legend(['train', 'val'], loc='upper left')\n",
        "plt.show()"
      ],
      "execution_count": 59,
      "outputs": [
        {
          "output_type": "display_data",
          "data": {
            "image/png": "[encoded data removed]",
            "text/plain": [
              "<Figure size 432x288 with 1 Axes>"
            ]
          },
          "metadata": {
            "tags": [],
            "needs_background": "light"
          }
        }
      ]
    },
    {
      "cell_type": "code",
      "metadata": {
        "id": "_0ydS_KoGfdg"
      },
      "source": [
        ""
      ],
      "execution_count": null,
      "outputs": []
    }
  ]
}