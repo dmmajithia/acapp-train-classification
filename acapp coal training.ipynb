{
  "nbformat": 4,
  "nbformat_minor": 0,
  "metadata": {
    "kernelspec": {
      "display_name": "Python 3",
      "language": "python",
      "name": "python3"
    },
    "language_info": {
      "codemirror_mode": {
        "name": "ipython",
        "version": 3
      },
      "file_extension": ".py",
      "mimetype": "text/x-python",
      "name": "python",
      "nbconvert_exporter": "python",
      "pygments_lexer": "ipython3",
      "version": "3.7.9"
    },
    "colab": {
      "name": "acapp coal training.ipynb",
      "provenance": []
    },
    "accelerator": "GPU"
  },
  "cells": [
    {
      "cell_type": "code",
      "metadata": {
        "id": "vRrrE_cG6EEs"
      },
      "source": [
        "import os\n",
        "# os.environ[\"KERAS_BACKEND\"] = \"plaidml.keras.backend\"\n",
        "import tensorflow.keras as keras\n",
        "from keras.models import load_model\n",
        "from keras.preprocessing.image import ImageDataGenerator\n",
        "\n",
        "import numpy as np\n",
        "import cv2\n",
        "import os\n",
        "import matplotlib.pyplot as plt\n",
        "%matplotlib inline\n",
        "\n",
        "from keras.models import Sequential\n",
        "from keras.layers import Dense, Conv2D, Dropout, Flatten, MaxPooling2D, BatchNormalization"
      ],
      "execution_count": 1,
      "outputs": []
    },
    {
      "cell_type": "code",
      "metadata": {
        "id": "g8iqjTI86EEx"
      },
      "source": [
        "train_data_dir = '/content/acapp-train-classification/acapp_data/training_images/'"
      ],
      "execution_count": 2,
      "outputs": []
    },
    {
      "cell_type": "code",
      "metadata": {
        "id": "i2GT7RW96mXt",
        "outputId": "958ecb91-5fba-4a34-b3e6-342f1e485234",
        "colab": {
          "base_uri": "https://localhost:8080/",
          "height": 153
        }
      },
      "source": [
        "!rm -rf acapp-train-classification\n",
        "!git clone https://github.com/dmmajithia/acapp-train-classification.git"
      ],
      "execution_count": 3,
      "outputs": [
        {
          "output_type": "stream",
          "text": [
            "Cloning into 'acapp-train-classification'...\n",
            "remote: Enumerating objects: 9, done.\u001b[K\n",
            "remote: Counting objects: 100% (9/9), done.\u001b[K\n",
            "remote: Compressing objects: 100% (9/9), done.\u001b[K\n",
            "remote: Total 78750 (delta 4), reused 0 (delta 0), pack-reused 78741\u001b[K\n",
            "Receiving objects: 100% (78750/78750), 1.55 GiB | 40.70 MiB/s, done.\n",
            "Resolving deltas: 100% (47/47), done.\n",
            "Checking out files: 100% (77996/77996), done.\n"
          ],
          "name": "stdout"
        }
      ]
    },
    {
      "cell_type": "code",
      "metadata": {
        "id": "YKvBAbWNMFeR",
        "outputId": "d28337bf-8c51-4efb-8e83-b62fa45ffc9d",
        "colab": {
          "base_uri": "https://localhost:8080/",
          "height": 34
        }
      },
      "source": [
        "!ls /content/acapp-train-classification/acapp_data/training_images/no_train | wc -l"
      ],
      "execution_count": 34,
      "outputs": [
        {
          "output_type": "stream",
          "text": [
            "1229\n"
          ],
          "name": "stdout"
        }
      ]
    },
    {
      "cell_type": "code",
      "metadata": {
        "id": "9NFU-eXIWF95"
      },
      "source": [
        "# https://superuser.com/questions/1186350/delete-all-but-1000-random-files-in-a-directory\n",
        "!find /content/acapp-train-classification/acapp_data/training_images/no_train -type f -print0 | sort -zR | tail -zn +1230 | xargs -0 rm"
      ],
      "execution_count": 33,
      "outputs": []
    },
    {
      "cell_type": "code",
      "metadata": {
        "id": "q3ujjRL8c2un"
      },
      "source": [
        "!mv /content/acapp-train-classification/acapp_data/training_images/mul_trains/* /content/acapp-train-classification/acapp_data/training_images/one_train/"
      ],
      "execution_count": null,
      "outputs": []
    },
    {
      "cell_type": "code",
      "metadata": {
        "id": "JergmQBtgYpp"
      },
      "source": [
        "# !rm -rf /content/acapp-train-classification/acapp_data/training_images/mul_trains\n",
        "!rm -rf /content/acapp-train-classification/acapp_data/training_images/night_no_train\n",
        "!rm -rf /content/acapp-train-classification/acapp_data/training_images/night_train\n",
        "# !rm -rf /content/acapp-train-classification/acapp_data/training_images/mul_trains"
      ],
      "execution_count": 4,
      "outputs": []
    },
    {
      "cell_type": "code",
      "metadata": {
        "id": "iaXIeZgk6EE0",
        "outputId": "2daa4ce8-a3f2-469c-de59-61687fdd898b",
        "colab": {
          "base_uri": "https://localhost:8080/",
          "height": 51
        }
      },
      "source": [
        "img_height, img_width = 300,300\n",
        "batch_size = 2\n",
        "\n",
        "train_datagen = ImageDataGenerator(rescale=1./255,\n",
        "    validation_split=0.3) # set validation split\n",
        "\n",
        "train_generator = train_datagen.flow_from_directory(\n",
        "    train_data_dir,\n",
        "    target_size=(img_height, img_width),\n",
        "    batch_size=batch_size,\n",
        "    shuffle=True,\n",
        "    # class_mode='categorical',\n",
        "    # class_mode='binary',\n",
        "    class_mode='sparse',\n",
        "    subset='training') # set as training data\n",
        "\n",
        "validation_generator = train_datagen.flow_from_directory(\n",
        "    train_data_dir, # same directory as training data\n",
        "    target_size=(img_height, img_width),\n",
        "    batch_size=batch_size,\n",
        "    shuffle=True,\n",
        "    # class_mode='categorical',\n",
        "    # class_mode='binary',\n",
        "    class_mode='sparse',\n",
        "    subset='validation') # set as validation data\n",
        "\n",
        "# # Validation ImageDataGenerator with rescaling.\n",
        "# valid_datagen = ImageDataGenerator(rescale=1./255, validation_split=0.3)\n",
        "# # Training ImagaDataGenerator with Augmentation transf.  \n",
        "# train_datagen = ImageDataGenerator(rescale=1./255, validation_split=0.3,\\\n",
        "#                                    rotation_range=15, shear_range=10,\\\n",
        "#                                    zoom_range=0.25, fill_mode='nearest', \\\n",
        "#                                    height_shift_range=0.25, width_shift_range=0.25)\n",
        "\n",
        "# # Create a flow from the directory for validation data - seed=42\n",
        "# # Choose subset = 'validation'\n",
        "# validation_generator = valid_datagen.flow_from_directory(train_data_dir,\n",
        "#                                                          subset='validation',\n",
        "#                                                          shuffle=True, \n",
        "#                                                          seed=42, \n",
        "#                                                          target_size=(img_height, img_width),\n",
        "#                                                          batch_size=batch_size,\n",
        "#                                                          class_mode='binary')\n",
        "# # Create a flow from the directory using same seed and 'training' subset.\n",
        "# train_generator = train_datagen.flow_from_directory(train_data_dir, \n",
        "#                                                     subset='training',\n",
        "#                                                     shuffle=True,\n",
        "#                                                     seed=42,\n",
        "#                                                     target_size=(img_height, img_width),\n",
        "#                                                     batch_size=batch_size,\n",
        "#                                                     class_mode='binary')"
      ],
      "execution_count": 35,
      "outputs": [
        {
          "output_type": "stream",
          "text": [
            "Found 2583 images belonging to 3 classes.\n",
            "Found 1104 images belonging to 3 classes.\n"
          ],
          "name": "stdout"
        }
      ]
    },
    {
      "cell_type": "code",
      "metadata": {
        "id": "gtoILPUi6EE4"
      },
      "source": [
        "# acc = 95-99, batch_size = 50, epochs = 20\n",
        "input_shape = (300, 300, 3)\n",
        "# Creating a Sequential Model and adding the layers\n",
        "model = Sequential()\n",
        "model.add(Conv2D(32, kernel_size=(3,3), input_shape=input_shape,activation='relu'))\n",
        "model.add(MaxPooling2D(pool_size=(2, 2)))\n",
        "model.add(Conv2D(32, kernel_size=(3,3), input_shape=input_shape, activation='relu'))\n",
        "model.add(MaxPooling2D(pool_size=(2, 2)))\n",
        "model.add(Conv2D(64, kernel_size=(3,3),activation='relu'))\n",
        "model.add(MaxPooling2D(pool_size=(2, 2)))\n",
        "model.add(Conv2D(64, kernel_size=(3,3),activation='relu'))\n",
        "model.add(MaxPooling2D(pool_size=(2, 2)))\n",
        "model.add(Flatten()) # Flattening the 2D arrays for fully connected layers\n",
        "model.add(Dense(256, activation='relu'))\n",
        "model.add(Dense(64, activation='relu'))\n",
        "# model.add(Dropout(0.1))\n",
        "# model.add(Dense(64, activation='relu'))\n",
        "# model.add(Dense(128, activation='relu'))\n",
        "# model.add(Dropout(0.2))\n",
        "model.add(Dense(3,activation='softmax'))"
      ],
      "execution_count": null,
      "outputs": []
    },
    {
      "cell_type": "code",
      "metadata": {
        "id": "i0hvlDgRoaTj"
      },
      "source": [
        "def get_model_daytime2class():\n",
        "  # acc = 95-99, batch_size = 50, epochs = 20\n",
        "  input_shape = (300, 300, 3)\n",
        "  # Creating a Sequential Model and adding the layers\n",
        "  model = Sequential()\n",
        "  model.add(Conv2D(32, kernel_size=(3,3), input_shape=input_shape,activation='relu'))\n",
        "  model.add(MaxPooling2D(pool_size=(2, 2)))\n",
        "  # model.add(Conv2D(32, kernel_size=(3,3), activation='relu'))\n",
        "  # model.add(MaxPooling2D(pool_size=(2, 2)))\n",
        "  model.add(Conv2D(64, kernel_size=(3,3),activation='relu'))\n",
        "  model.add(MaxPooling2D(pool_size=(2, 2)))\n",
        "  model.add(Conv2D(64, kernel_size=(3,3),activation='relu'))\n",
        "  model.add(MaxPooling2D(pool_size=(2, 2)))\n",
        "  model.add(Flatten()) # Flattening the 2D arrays for fully connected layers\n",
        "  model.add(Dense(64, activation='relu'))\n",
        "  # model.add(Dropout(0.1))\n",
        "  # model.add(Dense(64, activation='relu'))\n",
        "  # model.add(Dense(128, activation='relu'))\n",
        "  model.add(Dropout(0.5))\n",
        "  model.add(Dense(3,activation='softmax'))\n",
        "  return model"
      ],
      "execution_count": 5,
      "outputs": []
    },
    {
      "cell_type": "code",
      "metadata": {
        "id": "TSyZBFAoCOeO"
      },
      "source": [
        "# input_shape = (300, 300, 3)\n",
        "# # Creating a Sequential Model and adding the layers\n",
        "# model = Sequential()\n",
        "# model.add(Conv2D(32, kernel_size=(3,3), input_shape=input_shape))\n",
        "# model.add(MaxPooling2D(pool_size=(2, 2)))\n",
        "# model.add(Conv2D(32, kernel_size=(3,3)))\n",
        "# model.add(MaxPooling2D(pool_size=(2, 2)))\n",
        "# # model.add(Conv2D(64, kernel_size=(3,3)))\n",
        "# # model.add(MaxPooling2D(pool_size=(2, 2)))\n",
        "# # model.add(Conv2D(128, kernel_size=(3,3)))\n",
        "# # model.add(MaxPooling2D(pool_size=(2, 2)))\n",
        "# model.add(Flatten()) # Flattening the 2D arrays for fully connected layers\n",
        "# model.add(Dense(64, activation='relu'))\n",
        "# model.add(Dropout(0.1))\n",
        "# # model.add(Dense(128, activation='relu'))\n",
        "# # model.add(Dropout(0.2))\n",
        "# model.add(Dense(5,activation='softmax'))"
      ],
      "execution_count": null,
      "outputs": []
    },
    {
      "cell_type": "code",
      "metadata": {
        "id": "w9b_C1xmPfZ4"
      },
      "source": [
        "# https://stackoverflow.com/a/63394332\n",
        "# https://github.com/keras-team/keras/issues/10472#issuecomment-472543538\n",
        "\n",
        "from sklearn.metrics import confusion_matrix\n",
        "class Metrics(keras.callbacks.Callback):\n",
        "    def __init__(self, val_data, batch_size):\n",
        "      super().__init__()\n",
        "      self._data = []\n",
        "      self.validation_data = val_data\n",
        "      self.batch_size = batch_size\n",
        "    \n",
        "    def on_train_begin(self, logs={}):\n",
        "        print(self.validation_data)\n",
        "        # self.val_f1s = []\n",
        "        # self.val_recalls = []\n",
        "        # self.val_precisions = []\n",
        "\n",
        "    def on_epoch_end(self, epoch, logs={}):\n",
        "        # x_test, y_test = self.validation_data[0], self.validation_data[1]\n",
        "        # if not epoch:\n",
        "        #   return\n",
        "        # x_test, y_test = [],[]\n",
        "        # for x,y in self.validation_data:\n",
        "        #   x_test.append(x)\n",
        "        #   y_test.append(y)\n",
        "        # y_predict = np.asarray(model.predict(x_test))\n",
        "\n",
        "        batches = len(self.validation_data)\n",
        "        total = batches * self.batch_size\n",
        "        \n",
        "        val_pred = np.zeros((total,1))\n",
        "        val_true = np.zeros((total))\n",
        "        \n",
        "        for batch in range(batches):\n",
        "            xVal, yVal = next(self.validation_data)\n",
        "            preds = np.asarray(self.model.predict(xVal))\n",
        "            preds = np.array([[np.argmax(p)] for p in preds])\n",
        "            # print(preds.shape)\n",
        "            # return\n",
        "            val_pred[batch * preds.shape[0] : (batch+1) * preds.shape[0]] = preds\n",
        "            val_true[batch * preds.shape[0] : (batch+1) * preds.shape[0]] = yVal\n",
        "\n",
        "        # true = np.argmax(val_true, axis=1)\n",
        "        # pred = np.argmax(val_predict, axis=1)\n",
        "        \n",
        "        cm = confusion_matrix(val_true, val_pred)\n",
        "        cm = cm.astype('float') / cm.sum(axis=1)[:, np.newaxis]\n",
        "        self._data.append({\n",
        "            'classLevelaccuracy':cm.diagonal() ,\n",
        "        })\n",
        "        return\n",
        "\n",
        "    def get_data(self):\n",
        "        return self._data\n",
        "\n",
        "from keras.callbacks import ModelCheckpoint, EarlyStopping\n",
        "checkpoint = ModelCheckpoint(\"test_1.h5\", monitor='val_accuracy', verbose=1, save_best_only=True, save_weights_only=False, mode='auto', save_frequency=1)\n",
        "early = EarlyStopping(monitor='val_accuracy', min_delta=0, patience=5, verbose=1, mode='auto')"
      ],
      "execution_count": 36,
      "outputs": []
    },
    {
      "cell_type": "code",
      "metadata": {
        "id": "To3RyT1u6EE7"
      },
      "source": [
        "# model = get_model_daytime2class()\n",
        "# model = keras.applications.Xception(\n",
        "#     include_top=True,\n",
        "#     weights=None,\n",
        "#     input_tensor=None,\n",
        "#     input_shape=input_shape,\n",
        "#     pooling=\"max\",\n",
        "#     classes=2,\n",
        "#     classifier_activation=\"softmax\",\n",
        "# )\n",
        "input_shape = (300, 300, 3)\n",
        "model = keras.applications.MobileNetV2(\n",
        "    input_shape=input_shape,\n",
        "    alpha=1.0,\n",
        "    include_top=True,\n",
        "    weights=None,\n",
        "    input_tensor=None,\n",
        "    pooling='max',\n",
        "    classes=3,\n",
        "    classifier_activation=\"softmax\"\n",
        ")\n",
        "\n",
        "model.compile(optimizer='adam', \n",
        "              loss='sparse_categorical_crossentropy', \n",
        "              # loss='kullback_leibler_divergence',\n",
        "              # loss='binary_crossentropy',\n",
        "              metrics=['accuracy'])"
      ],
      "execution_count": 37,
      "outputs": []
    },
    {
      "cell_type": "code",
      "metadata": {
        "id": "KQm1vPu16EE-",
        "outputId": "743aa57e-b156-4d86-bfcb-179283239a1a",
        "colab": {
          "base_uri": "https://localhost:8080/",
          "height": 105
        }
      },
      "source": [
        "epochs = 20\n",
        "metrics = Metrics(validation_generator,batch_size)\n",
        "history = model.fit(\n",
        "    train_generator,\n",
        "    steps_per_epoch=int(np.ceil(train_generator.n / float(batch_size))),\n",
        "    epochs=epochs,\n",
        "    validation_data=validation_generator,\n",
        "    validation_steps=int(np.ceil(validation_generator.n / float(batch_size))),\n",
        "    callbacks=[metrics,checkpoint,early]\n",
        ")"
      ],
      "execution_count": null,
      "outputs": [
        {
          "output_type": "stream",
          "text": [
            "<tensorflow.python.keras.preprocessing.image.DirectoryIterator object at 0x7fb1728c4ef0>\n",
            "Epoch 1/20\n",
            "   2/1292 [..............................] - ETA: 39s - loss: 1.1177 - accuracy: 0.0000e+00WARNING:tensorflow:Callbacks method `on_train_batch_end` is slow compared to the batch time (batch time: 0.0235s vs `on_train_batch_end` time: 0.0369s). Check your callbacks.\n",
            "1291/1292 [============================>.] - ETA: 0s - loss: 0.7487 - accuracy: 0.6718"
          ],
          "name": "stdout"
        }
      ]
    },
    {
      "cell_type": "code",
      "metadata": {
        "id": "FFE70BhlZIJd",
        "outputId": "614aadbd-4150-40f5-f0d1-7b4943ba9140",
        "colab": {
          "base_uri": "https://localhost:8080/",
          "height": 289
        }
      },
      "source": [
        "metrics.get_data()"
      ],
      "execution_count": 22,
      "outputs": [
        {
          "output_type": "execute_result",
          "data": {
            "text/plain": [
              "[{'classLevelaccuracy': array([0.23641304, 0.86390887, 0.65098138])},\n",
              " {'classLevelaccuracy': array([0.10869565, 0.98441247, 0.91796678])},\n",
              " {'classLevelaccuracy': array([0.60597826, 0.98141487, 0.96628083])},\n",
              " {'classLevelaccuracy': array([0.24184783, 0.88429257, 0.95822849])},\n",
              " {'classLevelaccuracy': array([0.69021739, 0.98501199, 0.94061399])},\n",
              " {'classLevelaccuracy': array([0.65217391, 0.98800959, 0.94967287])},\n",
              " {'classLevelaccuracy': array([0.60326087, 0.98920863, 0.9202315 ])},\n",
              " {'classLevelaccuracy': array([0.77173913, 0.98681055, 0.95294414])},\n",
              " {'classLevelaccuracy': array([0.72826087, 0.98681055, 0.92929039])},\n",
              " {'classLevelaccuracy': array([0.51086957, 0.98980815, 0.9202315 ])},\n",
              " {'classLevelaccuracy': array([0.8125    , 0.98980815, 0.93709109])},\n",
              " {'classLevelaccuracy': array([0.67391304, 0.99280576, 0.96804227])},\n",
              " {'classLevelaccuracy': array([0.7798913 , 0.97601918, 0.98414696])},\n",
              " {'classLevelaccuracy': array([0.82336957, 0.98261391, 0.91318571])},\n",
              " {'classLevelaccuracy': array([0.57608696, 0.98561151, 0.9491696 ])},\n",
              " {'classLevelaccuracy': array([0.75271739, 0.98860911, 0.94338198])}]"
            ]
          },
          "metadata": {
            "tags": []
          },
          "execution_count": 22
        }
      ]
    },
    {
      "cell_type": "code",
      "metadata": {
        "id": "BL7eVn-dlgDa",
        "outputId": "28dea15a-6a05-4deb-9e13-f1d68864160a",
        "colab": {
          "base_uri": "https://localhost:8080/",
          "height": 156
        }
      },
      "source": [
        "model.save('daytime2class')"
      ],
      "execution_count": null,
      "outputs": [
        {
          "output_type": "stream",
          "text": [
            "WARNING:tensorflow:From /usr/local/lib/python3.6/dist-packages/tensorflow/python/training/tracking/tracking.py:111: Model.state_updates (from tensorflow.python.keras.engine.training) is deprecated and will be removed in a future version.\n",
            "Instructions for updating:\n",
            "This property should not be used in TensorFlow 2.0, as updates are applied automatically.\n",
            "WARNING:tensorflow:From /usr/local/lib/python3.6/dist-packages/tensorflow/python/training/tracking/tracking.py:111: Layer.updates (from tensorflow.python.keras.engine.base_layer) is deprecated and will be removed in a future version.\n",
            "Instructions for updating:\n",
            "This property should not be used in TensorFlow 2.0, as updates are applied automatically.\n",
            "INFO:tensorflow:Assets written to: daytime2class/assets\n"
          ],
          "name": "stdout"
        }
      ]
    },
    {
      "cell_type": "code",
      "metadata": {
        "id": "c_RHRNsdmZxw",
        "outputId": "ef3e06f1-a02e-4872-cb4c-a79730cf7b05",
        "colab": {
          "base_uri": "https://localhost:8080/",
          "height": 119
        }
      },
      "source": [
        "!tar -cvzf daytime2class.tgz daytime2class"
      ],
      "execution_count": null,
      "outputs": [
        {
          "output_type": "stream",
          "text": [
            "daytime2class/\n",
            "daytime2class/saved_model.pb\n",
            "daytime2class/assets/\n",
            "daytime2class/variables/\n",
            "daytime2class/variables/variables.index\n",
            "daytime2class/variables/variables.data-00000-of-00001\n"
          ],
          "name": "stdout"
        }
      ]
    },
    {
      "cell_type": "code",
      "metadata": {
        "id": "Y0JQHYozmNoQ",
        "outputId": "fe56958d-b6bd-43d0-c333-2c591de53e69",
        "colab": {
          "base_uri": "https://localhost:8080/",
          "height": 17
        }
      },
      "source": [
        "from google.colab import files\n",
        "files.download('/content/daytime2class.tgz')"
      ],
      "execution_count": null,
      "outputs": [
        {
          "output_type": "display_data",
          "data": {
            "application/javascript": [
              "\n",
              "    async function download(id, filename, size) {\n",
              "      if (!google.colab.kernel.accessAllowed) {\n",
              "        return;\n",
              "      }\n",
              "      const div = document.createElement('div');\n",
              "      const label = document.createElement('label');\n",
              "      label.textContent = `Downloading \"${filename}\": `;\n",
              "      div.appendChild(label);\n",
              "      const progress = document.createElement('progress');\n",
              "      progress.max = size;\n",
              "      div.appendChild(progress);\n",
              "      document.body.appendChild(div);\n",
              "\n",
              "      const buffers = [];\n",
              "      let downloaded = 0;\n",
              "\n",
              "      const channel = await google.colab.kernel.comms.open(id);\n",
              "      // Send a message to notify the kernel that we're ready.\n",
              "      channel.send({})\n",
              "\n",
              "      for await (const message of channel.messages) {\n",
              "        // Send a message to notify the kernel that we're ready.\n",
              "        channel.send({})\n",
              "        if (message.buffers) {\n",
              "          for (const buffer of message.buffers) {\n",
              "            buffers.push(buffer);\n",
              "            downloaded += buffer.byteLength;\n",
              "            progress.value = downloaded;\n",
              "          }\n",
              "        }\n",
              "      }\n",
              "      const blob = new Blob(buffers, {type: 'application/binary'});\n",
              "      const a = document.createElement('a');\n",
              "      a.href = window.URL.createObjectURL(blob);\n",
              "      a.download = filename;\n",
              "      div.appendChild(a);\n",
              "      a.click();\n",
              "      div.remove();\n",
              "    }\n",
              "  "
            ],
            "text/plain": [
              "<IPython.core.display.Javascript object>"
            ]
          },
          "metadata": {
            "tags": []
          }
        },
        {
          "output_type": "display_data",
          "data": {
            "application/javascript": [
              "download(\"download_dbc6e0d6-7899-438d-ae26-99801324df69\", \"daytime2class.tgz\", 10838707)"
            ],
            "text/plain": [
              "<IPython.core.display.Javascript object>"
            ]
          },
          "metadata": {
            "tags": []
          }
        }
      ]
    },
    {
      "cell_type": "code",
      "metadata": {
        "id": "jXGVov3q6EFB",
        "outputId": "6e4eda22-595d-45e2-ef2d-99fd3b11478c",
        "colab": {
          "base_uri": "https://localhost:8080/",
          "height": 295
        }
      },
      "source": [
        "# summarize history for accuracy\n",
        "plt.plot(history.history['accuracy'])\n",
        "plt.plot(history.history['val_accuracy'])\n",
        "plt.title('model accuracy')\n",
        "plt.ylabel('accuracy')\n",
        "plt.xlabel('epoch')\n",
        "plt.legend(['train', 'val'], loc='upper left')\n",
        "plt.show()"
      ],
      "execution_count": 23,
      "outputs": [
        {
          "output_type": "display_data",
          "data": {
            "image/png": "[encoded data removed]",
            "text/plain": [
              "<Figure size 432x288 with 1 Axes>"
            ]
          },
          "metadata": {
            "tags": [],
            "needs_background": "light"
          }
        }
      ]
    },
    {
      "cell_type": "code",
      "metadata": {
        "id": "4BneoyexGXJS",
        "outputId": "02c01cc3-e3f0-48b3-8f59-4265e1641a73",
        "colab": {
          "base_uri": "https://localhost:8080/",
          "height": 295
        }
      },
      "source": [
        "# summarize history for loss\n",
        "plt.plot(history.history['loss'])\n",
        "plt.plot(history.history['val_loss'])\n",
        "plt.title('model loss')\n",
        "plt.ylabel('loss')\n",
        "plt.xlabel('epoch')\n",
        "plt.legend(['train', 'val'], loc='upper left')\n",
        "plt.show()"
      ],
      "execution_count": 24,
      "outputs": [
        {
          "output_type": "display_data",
          "data": {
            "image/png": "[encoded data removed]",
            "text/plain": [
              "<Figure size 432x288 with 1 Axes>"
            ]
          },
          "metadata": {
            "tags": [],
            "needs_background": "light"
          }
        }
      ]
    },
    {
      "cell_type": "code",
      "metadata": {
        "id": "_0ydS_KoGfdg"
      },
      "source": [
        ""
      ],
      "execution_count": null,
      "outputs": []
    }
  ]
}