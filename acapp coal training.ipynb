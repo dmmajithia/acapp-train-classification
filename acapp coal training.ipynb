{
  "nbformat": 4,
  "nbformat_minor": 0,
  "metadata": {
    "kernelspec": {
      "display_name": "Python 3",
      "language": "python",
      "name": "python3"
    },
    "language_info": {
      "codemirror_mode": {
        "name": "ipython",
        "version": 3
      },
      "file_extension": ".py",
      "mimetype": "text/x-python",
      "name": "python",
      "nbconvert_exporter": "python",
      "pygments_lexer": "ipython3",
      "version": "3.7.9"
    },
    "colab": {
      "name": "acapp coal training.ipynb",
      "provenance": []
    },
    "accelerator": "GPU"
  },
  "cells": [
    {
      "cell_type": "code",
      "metadata": {
        "id": "vRrrE_cG6EEs"
      },
      "source": [
        "import os\n",
        "# os.environ[\"KERAS_BACKEND\"] = \"plaidml.keras.backend\"\n",
        "import tensorflow.keras as keras\n",
        "from keras.models import load_model\n",
        "from keras.preprocessing.image import ImageDataGenerator\n",
        "\n",
        "import numpy as np\n",
        "import cv2\n",
        "import os\n",
        "import matplotlib.pyplot as plt\n",
        "%matplotlib inline\n",
        "\n",
        "from keras.models import Sequential\n",
        "from keras.layers import Dense, Conv2D, Dropout, Flatten, MaxPooling2D, BatchNormalization"
      ],
      "execution_count": 87,
      "outputs": []
    },
    {
      "cell_type": "code",
      "metadata": {
        "id": "g8iqjTI86EEx"
      },
      "source": [
        "train_data_dir = '/content/acapp-train-classification/acapp_data/training_images/'"
      ],
      "execution_count": 3,
      "outputs": []
    },
    {
      "cell_type": "code",
      "metadata": {
        "id": "i2GT7RW96mXt",
        "outputId": "aa4474d6-c025-4b30-a756-1abe7630b37a",
        "colab": {
          "base_uri": "https://localhost:8080/",
          "height": 153
        }
      },
      "source": [
        "!git clone https://github.com/dmmajithia/acapp-train-classification.git"
      ],
      "execution_count": 1,
      "outputs": [
        {
          "output_type": "stream",
          "text": [
            "Cloning into 'acapp-train-classification'...\n",
            "remote: Enumerating objects: 3, done.\u001b[K\n",
            "remote: Counting objects: 100% (3/3), done.\u001b[K\n",
            "remote: Compressing objects: 100% (3/3), done.\u001b[K\n",
            "remote: Total 44055 (delta 0), reused 0 (delta 0), pack-reused 44052\u001b[K\n",
            "Receiving objects: 100% (44055/44055), 704.47 MiB | 38.44 MiB/s, done.\n",
            "Resolving deltas: 100% (10/10), done.\n",
            "Checking out files: 100% (43326/43326), done.\n"
          ],
          "name": "stdout"
        }
      ]
    },
    {
      "cell_type": "code",
      "metadata": {
        "id": "iaXIeZgk6EE0",
        "outputId": "254c6313-f8e0-452b-c38b-7bd71186a678",
        "colab": {
          "base_uri": "https://localhost:8080/",
          "height": 51
        }
      },
      "source": [
        "img_height, img_width = 300,300\n",
        "batch_size = 200\n",
        "train_datagen = ImageDataGenerator(rescale=1./255,\n",
        "    validation_split=0.3) # set validation split\n",
        "\n",
        "train_generator = train_datagen.flow_from_directory(\n",
        "    train_data_dir,\n",
        "    target_size=(img_height, img_width),\n",
        "    batch_size=batch_size,\n",
        "    shuffle=True,\n",
        "    class_mode='categorical',\n",
        "    subset='training') # set as training data\n",
        "\n",
        "validation_generator = train_datagen.flow_from_directory(\n",
        "    train_data_dir, # same directory as training data\n",
        "    target_size=(img_height, img_width),\n",
        "    batch_size=batch_size,\n",
        "    shuffle=True,\n",
        "    class_mode='categorical',\n",
        "    subset='validation') # set as validation data"
      ],
      "execution_count": 80,
      "outputs": [
        {
          "output_type": "stream",
          "text": [
            "Found 3026 images belonging to 5 classes.\n",
            "Found 1294 images belonging to 5 classes.\n"
          ],
          "name": "stdout"
        }
      ]
    },
    {
      "cell_type": "code",
      "metadata": {
        "id": "gtoILPUi6EE4"
      },
      "source": [
        "# acc = 85-90, batch_size = 100, epochs = 10\n",
        "input_shape = (300, 300, 3)\n",
        "# Creating a Sequential Model and adding the layers\n",
        "model = Sequential()\n",
        "model.add(Conv2D(32, kernel_size=(3,3), input_shape=input_shape))\n",
        "model.add(MaxPooling2D(pool_size=(2, 2)))\n",
        "model.add(Conv2D(64, kernel_size=(3,3)))\n",
        "# model.add(BatchNormalization())\n",
        "model.add(MaxPooling2D(pool_size=(2, 2)))\n",
        "# model.add(Conv2D(64, kernel_size=(3,3)))\n",
        "# model.add(MaxPooling2D(pool_size=(2, 2)))\n",
        "model.add(Conv2D(128, kernel_size=(3,3)))\n",
        "model.add(BatchNormalization())\n",
        "model.add(MaxPooling2D(pool_size=(2, 2)))\n",
        "model.add(Flatten()) # Flattening the 2D arrays for fully connected layers\n",
        "model.add(Dense(64, activation='relu'))\n",
        "model.add(Dropout(0.1))\n",
        "# model.add(Dense(128, activation='relu'))\n",
        "# model.add(Dropout(0.2))\n",
        "model.add(Dense(5,activation='softmax'))"
      ],
      "execution_count": 88,
      "outputs": []
    },
    {
      "cell_type": "code",
      "metadata": {
        "id": "TSyZBFAoCOeO"
      },
      "source": [
        "# input_shape = (300, 300, 3)\n",
        "# # Creating a Sequential Model and adding the layers\n",
        "# model = Sequential()\n",
        "# model.add(Conv2D(32, kernel_size=(3,3), input_shape=input_shape))\n",
        "# model.add(MaxPooling2D(pool_size=(2, 2)))\n",
        "# model.add(Conv2D(32, kernel_size=(3,3)))\n",
        "# model.add(MaxPooling2D(pool_size=(2, 2)))\n",
        "# # model.add(Conv2D(64, kernel_size=(3,3)))\n",
        "# # model.add(MaxPooling2D(pool_size=(2, 2)))\n",
        "# # model.add(Conv2D(128, kernel_size=(3,3)))\n",
        "# # model.add(MaxPooling2D(pool_size=(2, 2)))\n",
        "# model.add(Flatten()) # Flattening the 2D arrays for fully connected layers\n",
        "# model.add(Dense(64, activation='relu'))\n",
        "# model.add(Dropout(0.1))\n",
        "# # model.add(Dense(128, activation='relu'))\n",
        "# # model.add(Dropout(0.2))\n",
        "# model.add(Dense(5,activation='softmax'))"
      ],
      "execution_count": 82,
      "outputs": []
    },
    {
      "cell_type": "code",
      "metadata": {
        "id": "To3RyT1u6EE7"
      },
      "source": [
        "model.compile(optimizer='adam', \n",
        "              # loss='sparse_categorical_crossentropy', \n",
        "              loss='kullback_leibler_divergence',\n",
        "              metrics=['accuracy'])"
      ],
      "execution_count": 89,
      "outputs": []
    },
    {
      "cell_type": "code",
      "metadata": {
        "id": "KQm1vPu16EE-",
        "outputId": "277b9278-1f6a-4182-c10a-6aa25c53bd6c",
        "colab": {
          "base_uri": "https://localhost:8080/",
          "height": 717
        }
      },
      "source": [
        "epochs = 20\n",
        "\n",
        "history = model.fit_generator(\n",
        "    train_generator,\n",
        "    steps_per_epoch=int(np.ceil(train_generator.n / float(batch_size))),\n",
        "    epochs=epochs,\n",
        "    validation_data=validation_generator,\n",
        "    validation_steps=int(np.ceil(validation_generator.n / float(batch_size)))\n",
        ")"
      ],
      "execution_count": 90,
      "outputs": [
        {
          "output_type": "stream",
          "text": [
            "Epoch 1/20\n",
            "16/16 [==============================] - 16s 1000ms/step - loss: 3.9550 - accuracy: 0.7112 - val_loss: 3.8949 - val_accuracy: 0.7573\n",
            "Epoch 2/20\n",
            "16/16 [==============================] - 15s 953ms/step - loss: 4.0535 - accuracy: 0.7485 - val_loss: 3.9025 - val_accuracy: 0.7573\n",
            "Epoch 3/20\n",
            "16/16 [==============================] - 15s 940ms/step - loss: 4.0378 - accuracy: 0.7492 - val_loss: 3.8840 - val_accuracy: 0.7589\n",
            "Epoch 4/20\n",
            "16/16 [==============================] - 15s 940ms/step - loss: 3.9893 - accuracy: 0.7525 - val_loss: 3.8365 - val_accuracy: 0.7620\n",
            "Epoch 5/20\n",
            "16/16 [==============================] - 15s 949ms/step - loss: 3.9653 - accuracy: 0.7535 - val_loss: 5.1235 - val_accuracy: 0.6461\n",
            "Epoch 6/20\n",
            "16/16 [==============================] - 15s 948ms/step - loss: 3.9633 - accuracy: 0.7538 - val_loss: 3.8547 - val_accuracy: 0.7604\n",
            "Epoch 7/20\n",
            "16/16 [==============================] - 15s 949ms/step - loss: 4.0029 - accuracy: 0.7515 - val_loss: 3.8863 - val_accuracy: 0.7589\n",
            "Epoch 8/20\n",
            "16/16 [==============================] - 16s 973ms/step - loss: 3.9464 - accuracy: 0.7551 - val_loss: 3.8365 - val_accuracy: 0.7620\n",
            "Epoch 9/20\n",
            "16/16 [==============================] - 15s 963ms/step - loss: 3.9106 - accuracy: 0.7571 - val_loss: 3.8365 - val_accuracy: 0.7620\n",
            "Epoch 10/20\n",
            "16/16 [==============================] - 15s 943ms/step - loss: 3.9203 - accuracy: 0.7568 - val_loss: 3.8365 - val_accuracy: 0.7620\n",
            "Epoch 11/20\n",
            "16/16 [==============================] - 15s 945ms/step - loss: 3.9023 - accuracy: 0.7574 - val_loss: 3.8365 - val_accuracy: 0.7620\n",
            "Epoch 12/20\n",
            "16/16 [==============================] - 15s 955ms/step - loss: 3.8777 - accuracy: 0.7594 - val_loss: 3.8365 - val_accuracy: 0.7620\n",
            "Epoch 13/20\n",
            "16/16 [==============================] - 15s 947ms/step - loss: 3.8884 - accuracy: 0.7588 - val_loss: 3.8365 - val_accuracy: 0.7620\n",
            "Epoch 14/20\n",
            "16/16 [==============================] - 15s 953ms/step - loss: 3.8936 - accuracy: 0.7584 - val_loss: 3.8365 - val_accuracy: 0.7620\n",
            "Epoch 15/20\n",
            "16/16 [==============================] - 15s 955ms/step - loss: 3.8828 - accuracy: 0.7588 - val_loss: 5.7226 - val_accuracy: 0.6321\n",
            "Epoch 16/20\n",
            "16/16 [==============================] - 15s 943ms/step - loss: 3.8990 - accuracy: 0.7581 - val_loss: 6.0067 - val_accuracy: 0.6260\n",
            "Epoch 17/20\n",
            "16/16 [==============================] - 15s 949ms/step - loss: 3.9001 - accuracy: 0.7578 - val_loss: 5.6519 - val_accuracy: 0.6352\n",
            "Epoch 18/20\n",
            "16/16 [==============================] - 15s 950ms/step - loss: 3.8884 - accuracy: 0.7588 - val_loss: 4.9144 - val_accuracy: 0.6893\n",
            "Epoch 19/20\n",
            "16/16 [==============================] - 15s 943ms/step - loss: 3.8830 - accuracy: 0.7591 - val_loss: 4.6144 - val_accuracy: 0.7094\n",
            "Epoch 20/20\n",
            "16/16 [==============================] - 15s 943ms/step - loss: 3.9985 - accuracy: 0.7512 - val_loss: 9.1465 - val_accuracy: 0.4266\n"
          ],
          "name": "stdout"
        }
      ]
    },
    {
      "cell_type": "code",
      "metadata": {
        "id": "jXGVov3q6EFB",
        "outputId": "764a78a0-8235-4e21-aa3a-1f78bbb383dd",
        "colab": {
          "base_uri": "https://localhost:8080/",
          "height": 295
        }
      },
      "source": [
        "# summarize history for accuracy\n",
        "plt.plot(history.history['accuracy'])\n",
        "plt.plot(history.history['val_accuracy'])\n",
        "plt.title('model accuracy')\n",
        "plt.ylabel('accuracy')\n",
        "plt.xlabel('epoch')\n",
        "plt.legend(['train', 'val'], loc='upper left')\n",
        "plt.show()"
      ],
      "execution_count": 91,
      "outputs": [
        {
          "output_type": "display_data",
          "data": {
            "image/png": "[encoded data removed]",
            "text/plain": [
              "<Figure size 432x288 with 1 Axes>"
            ]
          },
          "metadata": {
            "tags": [],
            "needs_background": "light"
          }
        }
      ]
    },
    {
      "cell_type": "code",
      "metadata": {
        "id": "4BneoyexGXJS",
        "outputId": "8b384fb5-a180-40a3-c02a-641edcf405af",
        "colab": {
          "base_uri": "https://localhost:8080/",
          "height": 295
        }
      },
      "source": [
        "# summarize history for loss\n",
        "plt.plot(history.history['loss'])\n",
        "plt.plot(history.history['val_loss'])\n",
        "plt.title('model loss')\n",
        "plt.ylabel('loss')\n",
        "plt.xlabel('epoch')\n",
        "plt.legend(['train', 'val'], loc='upper left')\n",
        "plt.show()"
      ],
      "execution_count": 92,
      "outputs": [
        {
          "output_type": "display_data",
          "data": {
            "image/png": "[encoded data removed]",
            "text/plain": [
              "<Figure size 432x288 with 1 Axes>"
            ]
          },
          "metadata": {
            "tags": [],
            "needs_background": "light"
          }
        }
      ]
    },
    {
      "cell_type": "code",
      "metadata": {
        "id": "_0ydS_KoGfdg"
      },
      "source": [
        ""
      ],
      "execution_count": null,
      "outputs": []
    }
  ]
}