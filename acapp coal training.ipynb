{
  "nbformat": 4,
  "nbformat_minor": 0,
  "metadata": {
    "kernelspec": {
      "display_name": "Python 3",
      "language": "python",
      "name": "python3"
    },
    "language_info": {
      "codemirror_mode": {
        "name": "ipython",
        "version": 3
      },
      "file_extension": ".py",
      "mimetype": "text/x-python",
      "name": "python",
      "nbconvert_exporter": "python",
      "pygments_lexer": "ipython3",
      "version": "3.7.9"
    },
    "colab": {
      "name": "acapp coal training.ipynb",
      "provenance": [],
      "toc_visible": true,
      "include_colab_link": true
    },
    "accelerator": "GPU"
  },
  "cells": [
    {
      "cell_type": "markdown",
      "metadata": {
        "id": "view-in-github",
        "colab_type": "text"
      },
      "source": [
        "<a href=\"https://colab.research.google.com/github/dmmajithia/acapp-train-classification/blob/main/acapp%20coal%20training.ipynb\" target=\"_parent\"><img src=\"https://colab.research.google.com/assets/colab-badge.svg\" alt=\"Open In Colab\"/></a>"
      ]
    },
    {
      "cell_type": "code",
      "metadata": {
        "id": "vRrrE_cG6EEs"
      },
      "source": [
        "import os\n",
        "# os.environ[\"KERAS_BACKEND\"] = \"plaidml.keras.backend\"\n",
        "# \n",
        "# For your non-Colab code, be sure you have tensorflow==1.15\n",
        "import tensorflow as tf\n",
        "import tensorflow.keras as keras\n",
        "from keras.models import load_model\n",
        "from keras.preprocessing.image import ImageDataGenerator\n",
        "\n",
        "import numpy as np\n",
        "import cv2\n",
        "import os\n",
        "import matplotlib.pyplot as plt\n",
        "%matplotlib inline\n",
        "\n",
        "from keras.models import Sequential\n",
        "from keras.layers import Dense, Conv2D, Dropout, Flatten, MaxPooling2D, BatchNormalization"
      ],
      "execution_count": 1,
      "outputs": []
    },
    {
      "cell_type": "code",
      "metadata": {
        "id": "g8iqjTI86EEx"
      },
      "source": [
        "train_data_dir = '/content/acapp-train-classification/acapp_data/training_images/'"
      ],
      "execution_count": 2,
      "outputs": []
    },
    {
      "cell_type": "code",
      "metadata": {
        "id": "i2GT7RW96mXt",
        "outputId": "28fe88ae-eb56-4566-c699-178ec9e9b1bc",
        "colab": {
          "base_uri": "https://localhost:8080/"
        }
      },
      "source": [
        "!rm -rf acapp-train-classification\n",
        "!git clone https://github.com/dmmajithia/acapp-train-classification.git"
      ],
      "execution_count": 3,
      "outputs": [
        {
          "output_type": "stream",
          "text": [
            "Cloning into 'acapp-train-classification'...\n",
            "remote: Enumerating objects: 27, done.\u001b[K\n",
            "remote: Counting objects: 100% (27/27), done.\u001b[K\n",
            "remote: Compressing objects: 100% (27/27), done.\u001b[K\n",
            "remote: Total 78768 (delta 13), reused 0 (delta 0), pack-reused 78741\u001b[K\n",
            "Receiving objects: 100% (78768/78768), 1.55 GiB | 36.70 MiB/s, done.\n",
            "Resolving deltas: 100% (56/56), done.\n",
            "Checking out files: 100% (77996/77996), done.\n"
          ],
          "name": "stdout"
        }
      ]
    },
    {
      "cell_type": "code",
      "metadata": {
        "id": "YKvBAbWNMFeR",
        "outputId": "80d8fe9e-acb6-4c46-e134-1b3e3bf3802c",
        "colab": {
          "base_uri": "https://localhost:8080/"
        }
      },
      "source": [
        "!ls /content/acapp-train-classification/acapp_data/training_images/one_train | wc -l"
      ],
      "execution_count": 17,
      "outputs": [
        {
          "output_type": "stream",
          "text": [
            "7707\n"
          ],
          "name": "stdout"
        }
      ]
    },
    {
      "cell_type": "code",
      "metadata": {
        "id": "9NFU-eXIWF95"
      },
      "source": [
        "# https://superuser.com/questions/1186350/delete-all-but-1000-random-files-in-a-directory\n",
        "!find /content/acapp-train-classification/acapp_data/training_images/night_train -type f -print0 | sort -zR | tail -zn +3855 | xargs -0 rm"
      ],
      "execution_count": 11,
      "outputs": []
    },
    {
      "cell_type": "code",
      "metadata": {
        "id": "q3ujjRL8c2un"
      },
      "source": [
        "!mv /content/acapp-train-classification/acapp_data/training_images/night_train/* /content/acapp-train-classification/acapp_data/training_images/one_train/"
      ],
      "execution_count": 12,
      "outputs": []
    },
    {
      "cell_type": "code",
      "metadata": {
        "id": "JergmQBtgYpp"
      },
      "source": [
        "!rm -rf /content/acapp-train-classification/acapp_data/training_images/mul_trains\n",
        "!rm -rf /content/acapp-train-classification/acapp_data/training_images/night_no_train\n",
        "!rm -rf /content/acapp-train-classification/acapp_data/training_images/night_train\n",
        "# !rm -rf /content/acapp-train-classification/acapp_data/training_images/mul_trains"
      ],
      "execution_count": 15,
      "outputs": []
    },
    {
      "cell_type": "code",
      "metadata": {
        "id": "iaXIeZgk6EE0",
        "outputId": "e0d9fc6e-4bad-4f2c-e788-2979b38fd440",
        "colab": {
          "base_uri": "https://localhost:8080/"
        }
      },
      "source": [
        "img_height, img_width = 300,300\n",
        "batch_size = 2\n",
        "\n",
        "train_datagen = ImageDataGenerator(rescale=1./255,\n",
        "    validation_split=0.3) # set validation split\n",
        "\n",
        "train_generator = train_datagen.flow_from_directory(\n",
        "    train_data_dir,\n",
        "    target_size=(img_height, img_width),\n",
        "    batch_size=batch_size,\n",
        "    shuffle=True,\n",
        "    # class_mode='categorical',\n",
        "    # class_mode='binary',\n",
        "    class_mode='sparse',\n",
        "    subset='training') # set as training data\n",
        "\n",
        "validation_generator = train_datagen.flow_from_directory(\n",
        "    train_data_dir, # same directory as training data\n",
        "    target_size=(img_height, img_width),\n",
        "    batch_size=batch_size,\n",
        "    shuffle=True,\n",
        "    # class_mode='categorical',\n",
        "    # class_mode='binary',\n",
        "    class_mode='sparse',\n",
        "    subset='validation') # set as validation data\n",
        "\n",
        "# # Validation ImageDataGenerator with rescaling.\n",
        "# valid_datagen = ImageDataGenerator(rescale=1./255, validation_split=0.3)\n",
        "# # Training ImagaDataGenerator with Augmentation transf.  \n",
        "# train_datagen = ImageDataGenerator(rescale=1./255, validation_split=0.3,\\\n",
        "#                                    rotation_range=15, shear_range=10,\\\n",
        "#                                    zoom_range=0.25, fill_mode='nearest', \\\n",
        "#                                    height_shift_range=0.25, width_shift_range=0.25)\n",
        "\n",
        "# # Create a flow from the directory for validation data - seed=42\n",
        "# # Choose subset = 'validation'\n",
        "# validation_generator = valid_datagen.flow_from_directory(train_data_dir,\n",
        "#                                                          subset='validation',\n",
        "#                                                          shuffle=True, \n",
        "#                                                          seed=42, \n",
        "#                                                          target_size=(img_height, img_width),\n",
        "#                                                          batch_size=batch_size,\n",
        "#                                                          class_mode='binary')\n",
        "# # Create a flow from the directory using same seed and 'training' subset.\n",
        "# train_generator = train_datagen.flow_from_directory(train_data_dir, \n",
        "#                                                     subset='training',\n",
        "#                                                     shuffle=True,\n",
        "#                                                     seed=42,\n",
        "#                                                     target_size=(img_height, img_width),\n",
        "#                                                     batch_size=batch_size,\n",
        "#                                                     class_mode='binary')"
      ],
      "execution_count": 18,
      "outputs": [
        {
          "output_type": "stream",
          "text": [
            "Found 10790 images belonging to 2 classes.\n",
            "Found 4624 images belonging to 2 classes.\n"
          ],
          "name": "stdout"
        }
      ]
    },
    {
      "cell_type": "code",
      "metadata": {
        "id": "gtoILPUi6EE4"
      },
      "source": [
        "# acc = 95-99, batch_size = 50, epochs = 20\n",
        "input_shape = (300, 300, 3)\n",
        "# Creating a Sequential Model and adding the layers\n",
        "model = Sequential()\n",
        "model.add(Conv2D(32, kernel_size=(3,3), input_shape=input_shape,activation='relu'))\n",
        "model.add(MaxPooling2D(pool_size=(2, 2)))\n",
        "model.add(Conv2D(32, kernel_size=(3,3), input_shape=input_shape, activation='relu'))\n",
        "model.add(MaxPooling2D(pool_size=(2, 2)))\n",
        "model.add(Conv2D(64, kernel_size=(3,3),activation='relu'))\n",
        "model.add(MaxPooling2D(pool_size=(2, 2)))\n",
        "model.add(Conv2D(64, kernel_size=(3,3),activation='relu'))\n",
        "model.add(MaxPooling2D(pool_size=(2, 2)))\n",
        "model.add(Flatten()) # Flattening the 2D arrays for fully connected layers\n",
        "model.add(Dense(256, activation='relu'))\n",
        "model.add(Dense(64, activation='relu'))\n",
        "# model.add(Dropout(0.1))\n",
        "# model.add(Dense(64, activation='relu'))\n",
        "# model.add(Dense(128, activation='relu'))\n",
        "# model.add(Dropout(0.2))\n",
        "model.add(Dense(3,activation='softmax'))"
      ],
      "execution_count": null,
      "outputs": []
    },
    {
      "cell_type": "code",
      "metadata": {
        "id": "i0hvlDgRoaTj"
      },
      "source": [
        "def get_model_daytime2class():\n",
        "  # acc = 95-99, batch_size = 50, epochs = 20\n",
        "  input_shape = (300, 300, 3)\n",
        "  # Creating a Sequential Model and adding the layers\n",
        "  model = Sequential()\n",
        "  model.add(Conv2D(32, kernel_size=(3,3), input_shape=input_shape,activation='relu'))\n",
        "  model.add(MaxPooling2D(pool_size=(2, 2)))\n",
        "  # model.add(Conv2D(32, kernel_size=(3,3), activation='relu'))\n",
        "  # model.add(MaxPooling2D(pool_size=(2, 2)))\n",
        "  model.add(Conv2D(64, kernel_size=(3,3),activation='relu'))\n",
        "  model.add(MaxPooling2D(pool_size=(2, 2)))\n",
        "  model.add(Conv2D(64, kernel_size=(3,3),activation='relu'))\n",
        "  model.add(MaxPooling2D(pool_size=(2, 2)))\n",
        "  model.add(Flatten()) # Flattening the 2D arrays for fully connected layers\n",
        "  model.add(Dense(64, activation='relu'))\n",
        "  # model.add(Dropout(0.1))\n",
        "  # model.add(Dense(64, activation='relu'))\n",
        "  # model.add(Dense(128, activation='relu'))\n",
        "  model.add(Dropout(0.5))\n",
        "  model.add(Dense(3,activation='softmax'))\n",
        "  return model"
      ],
      "execution_count": null,
      "outputs": []
    },
    {
      "cell_type": "code",
      "metadata": {
        "id": "TSyZBFAoCOeO"
      },
      "source": [
        "# input_shape = (300, 300, 3)\n",
        "# # Creating a Sequential Model and adding the layers\n",
        "# model = Sequential()\n",
        "# model.add(Conv2D(32, kernel_size=(3,3), input_shape=input_shape))\n",
        "# model.add(MaxPooling2D(pool_size=(2, 2)))\n",
        "# model.add(Conv2D(32, kernel_size=(3,3)))\n",
        "# model.add(MaxPooling2D(pool_size=(2, 2)))\n",
        "# # model.add(Conv2D(64, kernel_size=(3,3)))\n",
        "# # model.add(MaxPooling2D(pool_size=(2, 2)))\n",
        "# # model.add(Conv2D(128, kernel_size=(3,3)))\n",
        "# # model.add(MaxPooling2D(pool_size=(2, 2)))\n",
        "# model.add(Flatten()) # Flattening the 2D arrays for fully connected layers\n",
        "# model.add(Dense(64, activation='relu'))\n",
        "# model.add(Dropout(0.1))\n",
        "# # model.add(Dense(128, activation='relu'))\n",
        "# # model.add(Dropout(0.2))\n",
        "# model.add(Dense(5,activation='softmax'))"
      ],
      "execution_count": null,
      "outputs": []
    },
    {
      "cell_type": "code",
      "metadata": {
        "id": "w9b_C1xmPfZ4"
      },
      "source": [
        "# https://stackoverflow.com/a/63394332\n",
        "# https://github.com/keras-team/keras/issues/10472#issuecomment-472543538\n",
        "\n",
        "from sklearn.metrics import confusion_matrix\n",
        "class Metrics(keras.callbacks.Callback):\n",
        "    def __init__(self, val_data, batch_size):\n",
        "      super().__init__()\n",
        "      self._data = []\n",
        "      self.validation_data = val_data\n",
        "      self.batch_size = batch_size\n",
        "    \n",
        "    def on_train_begin(self, logs={}):\n",
        "        print(self.validation_data)\n",
        "        # self.val_f1s = []\n",
        "        # self.val_recalls = []\n",
        "        # self.val_precisions = []\n",
        "\n",
        "    def on_epoch_end(self, epoch, logs={}):\n",
        "        # x_test, y_test = self.validation_data[0], self.validation_data[1]\n",
        "        # if not epoch:\n",
        "        #   return\n",
        "        # x_test, y_test = [],[]\n",
        "        # for x,y in self.validation_data:\n",
        "        #   x_test.append(x)\n",
        "        #   y_test.append(y)\n",
        "        # y_predict = np.asarray(model.predict(x_test))\n",
        "\n",
        "        batches = len(self.validation_data)\n",
        "        total = batches * self.batch_size\n",
        "        \n",
        "        val_pred = np.zeros((total,1))\n",
        "        val_true = np.zeros((total))\n",
        "        \n",
        "        for batch in range(batches):\n",
        "            xVal, yVal = next(self.validation_data)\n",
        "            preds = np.asarray(self.model.predict(xVal))\n",
        "            preds = np.array([[np.argmax(p)] for p in preds])\n",
        "            # print(preds.shape)\n",
        "            # return\n",
        "            val_pred[batch * preds.shape[0] : (batch+1) * preds.shape[0]] = preds\n",
        "            val_true[batch * preds.shape[0] : (batch+1) * preds.shape[0]] = yVal\n",
        "\n",
        "        # true = np.argmax(val_true, axis=1)\n",
        "        # pred = np.argmax(val_predict, axis=1)\n",
        "        \n",
        "        cm = confusion_matrix(val_true, val_pred)\n",
        "        cm = cm.astype('float') / cm.sum(axis=1)[:, np.newaxis]\n",
        "        self._data.append({\n",
        "            'classLevelaccuracy':cm.diagonal() ,\n",
        "        })\n",
        "        return\n",
        "\n",
        "    def get_data(self):\n",
        "        return self._data\n",
        "\n",
        "from keras.callbacks import ModelCheckpoint, EarlyStopping\n",
        "checkpoint = ModelCheckpoint(\"test_3.h5\", monitor='val_accuracy', verbose=1, save_best_only=True, save_weights_only=False, mode='auto', save_frequency=1)\n",
        "early = EarlyStopping(monitor='val_accuracy', min_delta=0, patience=5, verbose=1, mode='auto')"
      ],
      "execution_count": 20,
      "outputs": []
    },
    {
      "cell_type": "code",
      "metadata": {
        "id": "To3RyT1u6EE7"
      },
      "source": [
        "# model = get_model_daytime2class()\n",
        "# model = keras.applications.Xception(\n",
        "#     include_top=True,\n",
        "#     weights=None,\n",
        "#     input_tensor=None,\n",
        "#     input_shape=input_shape,\n",
        "#     pooling=\"max\",\n",
        "#     classes=2,\n",
        "#     classifier_activation=\"softmax\",\n",
        "# )\n",
        "input_shape = (300, 300, 3)\n",
        "model = keras.applications.MobileNetV2(\n",
        "    input_shape=input_shape,\n",
        "    alpha=1.0,\n",
        "    include_top=True,\n",
        "    weights=None,\n",
        "    input_tensor=None,\n",
        "    pooling='max',\n",
        "    classes=2,\n",
        "    classifier_activation=\"softmax\"\n",
        ")\n",
        "\n",
        "model.compile(optimizer='adam', \n",
        "              loss='sparse_categorical_crossentropy', \n",
        "              # loss='kullback_leibler_divergence',\n",
        "              # loss='binary_crossentropy',\n",
        "              metrics=['accuracy'])"
      ],
      "execution_count": 21,
      "outputs": []
    },
    {
      "cell_type": "code",
      "metadata": {
        "id": "KQm1vPu16EE-"
      },
      "source": [
        "epochs = 50\n",
        "# metrics = Metrics(validation_generator,batch_size)\n",
        "history = model.fit(\n",
        "    train_generator,\n",
        "    steps_per_epoch=int(np.ceil(train_generator.n / float(batch_size))),\n",
        "    epochs=epochs,\n",
        "    validation_data=validation_generator,\n",
        "    validation_steps=int(np.ceil(validation_generator.n / float(batch_size))),\n",
        "    callbacks=[metrics,checkpoint,early]\n",
        ")"
      ],
      "execution_count": null,
      "outputs": []
    },
    {
      "cell_type": "code",
      "metadata": {
        "id": "FFE70BhlZIJd",
        "outputId": "73b5273a-5ada-45a0-b6a1-3dc58f557e04",
        "colab": {
          "base_uri": "https://localhost:8080/"
        }
      },
      "source": [
        "metrics.get_data()[-6]"
      ],
      "execution_count": 24,
      "outputs": [
        {
          "output_type": "execute_result",
          "data": {
            "text/plain": [
              "{'classLevelaccuracy': array([0.98788927, 0.94031142])}"
            ]
          },
          "metadata": {
            "tags": []
          },
          "execution_count": 24
        }
      ]
    },
    {
      "cell_type": "code",
      "metadata": {
        "id": "ksYlIHarWzTj",
        "outputId": "e8b1324d-e100-4ed8-dc51-e631ac1c6161",
        "colab": {
          "base_uri": "https://localhost:8080/"
        }
      },
      "source": [
        "!ls /content/acapp-train-classification/acapp_data/training_images"
      ],
      "execution_count": 25,
      "outputs": [
        {
          "output_type": "stream",
          "text": [
            "no_train  one_train\n"
          ],
          "name": "stdout"
        }
      ]
    },
    {
      "cell_type": "code",
      "metadata": {
        "id": "g20YvvX2c-Rd"
      },
      "source": [
        "p = model.predict(validation_generator, batch_size=batch_size, steps=int(np.ceil(validation_generator.n / float(batch_size))))"
      ],
      "execution_count": null,
      "outputs": []
    },
    {
      "cell_type": "code",
      "metadata": {
        "id": "zBkQI_1LdMr7",
        "outputId": "39e7d582-3bfa-4a0c-be9b-f18c0a039506",
        "colab": {
          "base_uri": "https://localhost:8080/",
          "height": 136
        }
      },
      "source": [
        "for pi in p:\n",
        "  print(p)\n",
        "  break"
      ],
      "execution_count": null,
      "outputs": [
        {
          "output_type": "stream",
          "text": [
            "[[9.9976951e-01 1.1370429e-05 2.1918215e-04]\n",
            " [1.6042386e-03 4.1874833e-03 9.9420822e-01]\n",
            " [1.8274468e-04 9.9911290e-01 7.0438837e-04]\n",
            " ...\n",
            " [1.3995600e-01 1.3449878e-04 8.5990947e-01]\n",
            " [6.4153753e-02 7.2425264e-01 2.1159352e-01]\n",
            " [4.2807448e-04 9.6329314e-01 3.6278728e-02]]\n"
          ],
          "name": "stdout"
        }
      ]
    },
    {
      "cell_type": "code",
      "metadata": {
        "id": "SRP7_TLebGJs"
      },
      "source": [
        "model.save('mobilnet_v2_2class-daynight.h5')"
      ],
      "execution_count": 29,
      "outputs": []
    },
    {
      "cell_type": "code",
      "metadata": {
        "id": "zcecxECpb2La",
        "outputId": "a59783bd-1be7-49e7-827e-6d8aca1e1ac7",
        "colab": {
          "base_uri": "https://localhost:8080/",
          "height": 34
        }
      },
      "source": [
        "!tar -cvzf mobilnet_v2_2class-daynight.h5.tgz mobilnet_v2_2class-daynight.h5\n",
        "from google.colab import files\n",
        "files.download('/content/mobilnet_v2_2class-daynight.h5.tgz')"
      ],
      "execution_count": 30,
      "outputs": [
        {
          "output_type": "stream",
          "text": [
            "mobilnet_v2_2class-daynight.h5\n"
          ],
          "name": "stdout"
        },
        {
          "output_type": "display_data",
          "data": {
            "application/javascript": [
              "\n",
              "    async function download(id, filename, size) {\n",
              "      if (!google.colab.kernel.accessAllowed) {\n",
              "        return;\n",
              "      }\n",
              "      const div = document.createElement('div');\n",
              "      const label = document.createElement('label');\n",
              "      label.textContent = `Downloading \"${filename}\": `;\n",
              "      div.appendChild(label);\n",
              "      const progress = document.createElement('progress');\n",
              "      progress.max = size;\n",
              "      div.appendChild(progress);\n",
              "      document.body.appendChild(div);\n",
              "\n",
              "      const buffers = [];\n",
              "      let downloaded = 0;\n",
              "\n",
              "      const channel = await google.colab.kernel.comms.open(id);\n",
              "      // Send a message to notify the kernel that we're ready.\n",
              "      channel.send({})\n",
              "\n",
              "      for await (const message of channel.messages) {\n",
              "        // Send a message to notify the kernel that we're ready.\n",
              "        channel.send({})\n",
              "        if (message.buffers) {\n",
              "          for (const buffer of message.buffers) {\n",
              "            buffers.push(buffer);\n",
              "            downloaded += buffer.byteLength;\n",
              "            progress.value = downloaded;\n",
              "          }\n",
              "        }\n",
              "      }\n",
              "      const blob = new Blob(buffers, {type: 'application/binary'});\n",
              "      const a = document.createElement('a');\n",
              "      a.href = window.URL.createObjectURL(blob);\n",
              "      a.download = filename;\n",
              "      div.appendChild(a);\n",
              "      a.click();\n",
              "      div.remove();\n",
              "    }\n",
              "  "
            ],
            "text/plain": [
              "<IPython.core.display.Javascript object>"
            ]
          },
          "metadata": {
            "tags": []
          }
        },
        {
          "output_type": "display_data",
          "data": {
            "application/javascript": [
              "download(\"download_232ff29c-42e2-4bb6-be0d-a3ba091065bc\", \"mobilnet_v2_2class-daynight.h5.tgz\", 24423816)"
            ],
            "text/plain": [
              "<IPython.core.display.Javascript object>"
            ]
          },
          "metadata": {
            "tags": []
          }
        }
      ]
    },
    {
      "cell_type": "code",
      "metadata": {
        "id": "BL7eVn-dlgDa",
        "outputId": "28dea15a-6a05-4deb-9e13-f1d68864160a",
        "colab": {
          "base_uri": "https://localhost:8080/",
          "height": 156
        }
      },
      "source": [
        "model.save('daytime2class')"
      ],
      "execution_count": null,
      "outputs": [
        {
          "output_type": "stream",
          "text": [
            "WARNING:tensorflow:From /usr/local/lib/python3.6/dist-packages/tensorflow/python/training/tracking/tracking.py:111: Model.state_updates (from tensorflow.python.keras.engine.training) is deprecated and will be removed in a future version.\n",
            "Instructions for updating:\n",
            "This property should not be used in TensorFlow 2.0, as updates are applied automatically.\n",
            "WARNING:tensorflow:From /usr/local/lib/python3.6/dist-packages/tensorflow/python/training/tracking/tracking.py:111: Layer.updates (from tensorflow.python.keras.engine.base_layer) is deprecated and will be removed in a future version.\n",
            "Instructions for updating:\n",
            "This property should not be used in TensorFlow 2.0, as updates are applied automatically.\n",
            "INFO:tensorflow:Assets written to: daytime2class/assets\n"
          ],
          "name": "stdout"
        }
      ]
    },
    {
      "cell_type": "code",
      "metadata": {
        "id": "c_RHRNsdmZxw",
        "outputId": "ef3e06f1-a02e-4872-cb4c-a79730cf7b05",
        "colab": {
          "base_uri": "https://localhost:8080/",
          "height": 119
        }
      },
      "source": [
        "!tar -cvzf daytime2class.tgz daytime2class"
      ],
      "execution_count": null,
      "outputs": [
        {
          "output_type": "stream",
          "text": [
            "daytime2class/\n",
            "daytime2class/saved_model.pb\n",
            "daytime2class/assets/\n",
            "daytime2class/variables/\n",
            "daytime2class/variables/variables.index\n",
            "daytime2class/variables/variables.data-00000-of-00001\n"
          ],
          "name": "stdout"
        }
      ]
    },
    {
      "cell_type": "code",
      "metadata": {
        "id": "Y0JQHYozmNoQ",
        "outputId": "fe56958d-b6bd-43d0-c333-2c591de53e69",
        "colab": {
          "base_uri": "https://localhost:8080/",
          "height": 17
        }
      },
      "source": [
        "from google.colab import files\n",
        "files.download('/content/daytime2class.tgz')"
      ],
      "execution_count": null,
      "outputs": [
        {
          "output_type": "display_data",
          "data": {
            "application/javascript": [
              "\n",
              "    async function download(id, filename, size) {\n",
              "      if (!google.colab.kernel.accessAllowed) {\n",
              "        return;\n",
              "      }\n",
              "      const div = document.createElement('div');\n",
              "      const label = document.createElement('label');\n",
              "      label.textContent = `Downloading \"${filename}\": `;\n",
              "      div.appendChild(label);\n",
              "      const progress = document.createElement('progress');\n",
              "      progress.max = size;\n",
              "      div.appendChild(progress);\n",
              "      document.body.appendChild(div);\n",
              "\n",
              "      const buffers = [];\n",
              "      let downloaded = 0;\n",
              "\n",
              "      const channel = await google.colab.kernel.comms.open(id);\n",
              "      // Send a message to notify the kernel that we're ready.\n",
              "      channel.send({})\n",
              "\n",
              "      for await (const message of channel.messages) {\n",
              "        // Send a message to notify the kernel that we're ready.\n",
              "        channel.send({})\n",
              "        if (message.buffers) {\n",
              "          for (const buffer of message.buffers) {\n",
              "            buffers.push(buffer);\n",
              "            downloaded += buffer.byteLength;\n",
              "            progress.value = downloaded;\n",
              "          }\n",
              "        }\n",
              "      }\n",
              "      const blob = new Blob(buffers, {type: 'application/binary'});\n",
              "      const a = document.createElement('a');\n",
              "      a.href = window.URL.createObjectURL(blob);\n",
              "      a.download = filename;\n",
              "      div.appendChild(a);\n",
              "      a.click();\n",
              "      div.remove();\n",
              "    }\n",
              "  "
            ],
            "text/plain": [
              "<IPython.core.display.Javascript object>"
            ]
          },
          "metadata": {
            "tags": []
          }
        },
        {
          "output_type": "display_data",
          "data": {
            "application/javascript": [
              "download(\"download_dbc6e0d6-7899-438d-ae26-99801324df69\", \"daytime2class.tgz\", 10838707)"
            ],
            "text/plain": [
              "<IPython.core.display.Javascript object>"
            ]
          },
          "metadata": {
            "tags": []
          }
        }
      ]
    },
    {
      "cell_type": "code",
      "metadata": {
        "id": "jXGVov3q6EFB",
        "outputId": "8474cd65-db40-4ef8-de8a-9831bfecbaa3",
        "colab": {
          "base_uri": "https://localhost:8080/",
          "height": 295
        }
      },
      "source": [
        "# summarize history for accuracy\n",
        "plt.plot(history.history['accuracy'])\n",
        "plt.plot(history.history['val_accuracy'])\n",
        "plt.title('model accuracy')\n",
        "plt.ylabel('accuracy')\n",
        "plt.xlabel('epoch')\n",
        "plt.legend(['train', 'val'], loc='upper left')\n",
        "plt.show()"
      ],
      "execution_count": 27,
      "outputs": [
        {
          "output_type": "display_data",
          "data": {
            "image/png": "[encoded data removed]",
            "text/plain": [
              "<Figure size 432x288 with 1 Axes>"
            ]
          },
          "metadata": {
            "tags": [],
            "needs_background": "light"
          }
        }
      ]
    },
    {
      "cell_type": "code",
      "metadata": {
        "id": "4BneoyexGXJS",
        "outputId": "4eececd8-1a41-45b7-dae1-60ef35e1414a",
        "colab": {
          "base_uri": "https://localhost:8080/",
          "height": 295
        }
      },
      "source": [
        "# summarize history for loss\n",
        "plt.plot(history.history['loss'])\n",
        "plt.plot(history.history['val_loss'])\n",
        "plt.title('model loss')\n",
        "plt.ylabel('loss')\n",
        "plt.xlabel('epoch')\n",
        "plt.legend(['train', 'val'], loc='upper left')\n",
        "plt.show()"
      ],
      "execution_count": 28,
      "outputs": [
        {
          "output_type": "display_data",
          "data": {
            "image/png": "[encoded data removed]",
            "text/plain": [
              "<Figure size 432x288 with 1 Axes>"
            ]
          },
          "metadata": {
            "tags": [],
            "needs_background": "light"
          }
        }
      ]
    },
    {
      "cell_type": "code",
      "metadata": {
        "id": "_0ydS_KoGfdg"
      },
      "source": [
        ""
      ],
      "execution_count": null,
      "outputs": []
    },
    {
      "cell_type": "markdown",
      "metadata": {
        "id": "KnNQNqYufMs_"
      },
      "source": [
        "# Quant aware training on pre trained mobilenet v2 2 class daynight"
      ]
    },
    {
      "cell_type": "code",
      "metadata": {
        "id": "X153CzA4fzwm",
        "outputId": "069fd4cb-986d-4f8d-e040-5270d32163fb",
        "colab": {
          "base_uri": "https://localhost:8080/"
        }
      },
      "source": [
        "!pip install -q tensorflow-model-optimization"
      ],
      "execution_count": 6,
      "outputs": [
        {
          "output_type": "stream",
          "text": [
            "\u001b[?25l\r\u001b[K     |██                              | 10kB 29.0MB/s eta 0:00:01\r\u001b[K     |███▉                            | 20kB 3.0MB/s eta 0:00:01\r\u001b[K     |█████▊                          | 30kB 4.0MB/s eta 0:00:01\r\u001b[K     |███████▋                        | 40kB 4.3MB/s eta 0:00:01\r\u001b[K     |█████████▌                      | 51kB 3.5MB/s eta 0:00:01\r\u001b[K     |███████████▍                    | 61kB 3.9MB/s eta 0:00:01\r\u001b[K     |█████████████▎                  | 71kB 4.3MB/s eta 0:00:01\r\u001b[K     |███████████████▏                | 81kB 4.5MB/s eta 0:00:01\r\u001b[K     |█████████████████               | 92kB 4.8MB/s eta 0:00:01\r\u001b[K     |███████████████████             | 102kB 4.7MB/s eta 0:00:01\r\u001b[K     |████████████████████▉           | 112kB 4.7MB/s eta 0:00:01\r\u001b[K     |██████████████████████▊         | 122kB 4.7MB/s eta 0:00:01\r\u001b[K     |████████████████████████▊       | 133kB 4.7MB/s eta 0:00:01\r\u001b[K     |██████████████████████████▋     | 143kB 4.7MB/s eta 0:00:01\r\u001b[K     |████████████████████████████▌   | 153kB 4.7MB/s eta 0:00:01\r\u001b[K     |██████████████████████████████▍ | 163kB 4.7MB/s eta 0:00:01\r\u001b[K     |████████████████████████████████| 174kB 4.7MB/s \n",
            "\u001b[?25h"
          ],
          "name": "stdout"
        }
      ]
    },
    {
      "cell_type": "code",
      "metadata": {
        "id": "L4cVFEASfXDE"
      },
      "source": [
        "# https://www.tensorflow.org/model_optimization/guide/quantization/training_example\n",
        "\n",
        "import tensorflow_model_optimization as tfmot\n",
        "quantize_model = tfmot.quantization.keras.quantize_model\n",
        "\n",
        "# q_aware stands for for quantization aware.\n",
        "q_aware_model = quantize_model(model)\n",
        "\n",
        "# `quantize_model` requires a recompile.\n",
        "q_aware_model.compile(optimizer='adam',\n",
        "              loss='sparse_categorical_crossentropy',\n",
        "              metrics=['accuracy'])\n",
        "\n",
        "q_aware_model.summary()"
      ],
      "execution_count": null,
      "outputs": []
    },
    {
      "cell_type": "code",
      "metadata": {
        "id": "r2RHB1hes0al"
      },
      "source": [
        ""
      ],
      "execution_count": null,
      "outputs": []
    },
    {
      "cell_type": "code",
      "metadata": {
        "id": "BGtwo1ARfo9G",
        "outputId": "d25838e2-4087-479e-8ef4-45ffcf960cd9",
        "colab": {
          "base_uri": "https://localhost:8080/"
        }
      },
      "source": [
        "from keras.callbacks import ModelCheckpoint, EarlyStopping\n",
        "checkpoint = ModelCheckpoint(\"qaware2class.h5\", monitor='val_accuracy', verbose=1, save_best_only=True, save_weights_only=False, mode='auto', save_frequency=1)\n",
        "early = EarlyStopping(monitor='val_accuracy', min_delta=0, patience=1, verbose=1, mode='auto')\n",
        "\n",
        "epochs = 1\n",
        "# metrics = Metrics(validation_generator,batch_size)\n",
        "history2 = q_aware_model.fit(\n",
        "    train_generator,\n",
        "    steps_per_epoch=int(np.ceil(train_generator.n / float(batch_size))),\n",
        "    epochs=epochs,\n",
        "    validation_data=validation_generator,\n",
        "    validation_steps=int(np.ceil(validation_generator.n / float(batch_size))),\n",
        "    callbacks=[metrics,checkpoint,early]\n",
        ")"
      ],
      "execution_count": 37,
      "outputs": [
        {
          "output_type": "stream",
          "text": [
            "<tensorflow.python.keras.preprocessing.image.DirectoryIterator object at 0x7f0e71f1c6a0>\n",
            "5395/5395 [==============================] - ETA: 0s - loss: 0.0190 - accuracy: 0.9964\n",
            "Epoch 00001: val_accuracy improved from -inf to 0.93815, saving model to qaware2class.h5\n",
            "5395/5395 [==============================] - 1816s 337ms/step - loss: 0.0190 - accuracy: 0.9964 - val_loss: 0.2408 - val_accuracy: 0.9381\n"
          ],
          "name": "stdout"
        }
      ]
    },
    {
      "cell_type": "code",
      "metadata": {
        "id": "_2n-H-3rtDOL",
        "outputId": "752421ff-5348-4e50-af5e-d17b23525038",
        "colab": {
          "base_uri": "https://localhost:8080/",
          "height": 34
        }
      },
      "source": [
        "!tar -cvzf qaware2class.h5.tgz qaware2class.h5\n",
        "from google.colab import files\n",
        "files.download('/content/qaware2class.h5.tgz')"
      ],
      "execution_count": 51,
      "outputs": [
        {
          "output_type": "stream",
          "text": [
            "qaware2class.h5\n"
          ],
          "name": "stdout"
        },
        {
          "output_type": "display_data",
          "data": {
            "application/javascript": [
              "\n",
              "    async function download(id, filename, size) {\n",
              "      if (!google.colab.kernel.accessAllowed) {\n",
              "        return;\n",
              "      }\n",
              "      const div = document.createElement('div');\n",
              "      const label = document.createElement('label');\n",
              "      label.textContent = `Downloading \"${filename}\": `;\n",
              "      div.appendChild(label);\n",
              "      const progress = document.createElement('progress');\n",
              "      progress.max = size;\n",
              "      div.appendChild(progress);\n",
              "      document.body.appendChild(div);\n",
              "\n",
              "      const buffers = [];\n",
              "      let downloaded = 0;\n",
              "\n",
              "      const channel = await google.colab.kernel.comms.open(id);\n",
              "      // Send a message to notify the kernel that we're ready.\n",
              "      channel.send({})\n",
              "\n",
              "      for await (const message of channel.messages) {\n",
              "        // Send a message to notify the kernel that we're ready.\n",
              "        channel.send({})\n",
              "        if (message.buffers) {\n",
              "          for (const buffer of message.buffers) {\n",
              "            buffers.push(buffer);\n",
              "            downloaded += buffer.byteLength;\n",
              "            progress.value = downloaded;\n",
              "          }\n",
              "        }\n",
              "      }\n",
              "      const blob = new Blob(buffers, {type: 'application/binary'});\n",
              "      const a = document.createElement('a');\n",
              "      a.href = window.URL.createObjectURL(blob);\n",
              "      a.download = filename;\n",
              "      div.appendChild(a);\n",
              "      a.click();\n",
              "      div.remove();\n",
              "    }\n",
              "  "
            ],
            "text/plain": [
              "<IPython.core.display.Javascript object>"
            ]
          },
          "metadata": {
            "tags": []
          }
        },
        {
          "output_type": "display_data",
          "data": {
            "application/javascript": [
              "download(\"download_e1f85a0d-e61c-4961-8eca-751d9dfcc079\", \"qaware2class.h5.tgz\", 23762541)"
            ],
            "text/plain": [
              "<IPython.core.display.Javascript object>"
            ]
          },
          "metadata": {
            "tags": []
          }
        }
      ]
    },
    {
      "cell_type": "code",
      "metadata": {
        "id": "EneOsJLpgh_x",
        "outputId": "eef58175-36d0-4368-ec01-3adbd629b035",
        "colab": {
          "base_uri": "https://localhost:8080/"
        }
      },
      "source": [
        "metrics.get_data()"
      ],
      "execution_count": 38,
      "outputs": [
        {
          "output_type": "execute_result",
          "data": {
            "text/plain": [
              "[{'classLevelaccuracy': array([0.97275087, 0.87110727])},\n",
              " {'classLevelaccuracy': array([0.58261246, 0.94766436])},\n",
              " {'classLevelaccuracy': array([0.96453287, 0.90570934])},\n",
              " {'classLevelaccuracy': array([0.98615917, 0.90873702])},\n",
              " {'classLevelaccuracy': array([0.95631488, 0.9550173 ])},\n",
              " {'classLevelaccuracy': array([0.98140138, 0.93425606])},\n",
              " {'classLevelaccuracy': array([0.98788927, 0.94031142])},\n",
              " {'classLevelaccuracy': array([0.97880623, 0.92690311])},\n",
              " {'classLevelaccuracy': array([0.97923875, 0.90311419])},\n",
              " {'classLevelaccuracy': array([0.94377163, 0.92257785])},\n",
              " {'classLevelaccuracy': array([0.97188581, 0.91133218])},\n",
              " {'classLevelaccuracy': array([0.98269896, 0.90224913])},\n",
              " {'classLevelaccuracy': array([0.96712803, 0.88408304])},\n",
              " {'classLevelaccuracy': array([0.98961938, 0.87716263])},\n",
              " {'classLevelaccuracy': array([0.98788927, 0.90657439])},\n",
              " {'classLevelaccuracy': array([0.97880623, 0.90960208])},\n",
              " {'classLevelaccuracy': array([0.98486159, 0.90484429])},\n",
              " {'classLevelaccuracy': array([0.97275087, 0.88408304])},\n",
              " {'classLevelaccuracy': array([0.9883218 , 0.88797578])}]"
            ]
          },
          "metadata": {
            "tags": []
          },
          "execution_count": 38
        }
      ]
    },
    {
      "cell_type": "code",
      "metadata": {
        "id": "ULCvlR1OqLrP",
        "outputId": "5e0308fc-b69c-4824-ffee-e851dbcbaaba",
        "colab": {
          "base_uri": "https://localhost:8080/"
        }
      },
      "source": [
        "# A generator that provides a representative dataset\n",
        "def representative_data_gen():\n",
        "  dataset_list = tf.data.Dataset.list_files(train_data_dir + '*/*')\n",
        "  for i in range(1000):\n",
        "    image = next(iter(dataset_list))\n",
        "    image = tf.io.read_file(image)\n",
        "    image = tf.io.decode_jpeg(image, channels=3)\n",
        "    # image = tf.image.resize(image, [IMAGE_SIZE, IMAGE_SIZE])\n",
        "    image = tf.cast(tf.cast(image, tf.float32) / 255., tf.float32)\n",
        "    image = tf.expand_dims(image, 0)\n",
        "    yield [image]\n",
        "\n",
        "# assert tf.__version__.startswith('1')\n",
        "# import tensorflow_model_optimization as tfmot\n",
        "# with tfmot.quantization.keras.quantize_scope():\n",
        "loaded_model = tf.keras.models.load_model('mobilnet_v2_2class-daynight.h5')\n",
        "converter = tf.lite.TFLiteConverter.from_keras_model(loaded_model)\n",
        "converter.optimizations = [tf.lite.Optimize.DEFAULT]\n",
        "# This ensures that if any ops can't be quantized, the converter throws an error\n",
        "converter.target_spec.supported_ops = [tf.lite.OpsSet.TFLITE_BUILTINS_INT8]\n",
        "# For full integer quantization, though supported types defaults to int8 only, we explicitly declare it for clarity.\n",
        "converter.target_spec.supported_types = [tf.int8]\n",
        "# These set the input and output tensors to uint8\n",
        "converter.inference_input_type = tf.uint8\n",
        "converter.inference_output_type = tf.uint8\n",
        "# # And this sets the representative dataset so we can quantize the activations\n",
        "converter.representative_dataset = representative_data_gen\n",
        "quantized_tflite_model = converter.convert()\n",
        "with open('mobilenet_v2_2class-daynight_quant-1.tflite', 'wb') as f:\n",
        "  f.write(quantized_tflite_model)"
      ],
      "execution_count": 18,
      "outputs": [
        {
          "output_type": "stream",
          "text": [
            "INFO:tensorflow:Assets written to: /tmp/tmpwvmuc9a_/assets\n"
          ],
          "name": "stdout"
        },
        {
          "output_type": "stream",
          "text": [
            "INFO:tensorflow:Assets written to: /tmp/tmpwvmuc9a_/assets\n"
          ],
          "name": "stderr"
        }
      ]
    },
    {
      "cell_type": "code",
      "metadata": {
        "id": "0JF1eqFERpI9",
        "outputId": "0d5585cf-fd26-4c88-ccb8-d33465a5e2c9",
        "colab": {
          "base_uri": "https://localhost:8080/"
        }
      },
      "source": [
        "!tar -xvzf mobilnet_v2_2class-daynight.h5.tgz"
      ],
      "execution_count": 12,
      "outputs": [
        {
          "output_type": "stream",
          "text": [
            "mobilnet_v2_2class-daynight.h5\n"
          ],
          "name": "stdout"
        }
      ]
    },
    {
      "cell_type": "code",
      "metadata": {
        "id": "uvFaHCOcqXSq",
        "outputId": "cfa7456c-ca08-434e-bee9-b2ed805d59c0",
        "colab": {
          "base_uri": "https://localhost:8080/",
          "height": 35
        }
      },
      "source": [
        "tf.__version__"
      ],
      "execution_count": 3,
      "outputs": [
        {
          "output_type": "execute_result",
          "data": {
            "application/vnd.google.colaboratory.intrinsic+json": {
              "type": "string"
            },
            "text/plain": [
              "'2.3.0'"
            ]
          },
          "metadata": {
            "tags": []
          },
          "execution_count": 3
        }
      ]
    },
    {
      "cell_type": "code",
      "metadata": {
        "id": "G3GAWLgGt7o2",
        "outputId": "850efe32-d190-4b4a-90e7-eba5a9cce862",
        "colab": {
          "base_uri": "https://localhost:8080/"
        }
      },
      "source": [
        "# Compiling for the edge tpu\n",
        "\n",
        "! curl https://packages.cloud.google.com/apt/doc/apt-key.gpg | sudo apt-key add -\n",
        "\n",
        "! echo \"deb https://packages.cloud.google.com/apt coral-edgetpu-stable main\" | sudo tee /etc/apt/sources.list.d/coral-edgetpu.list\n",
        "\n",
        "! sudo apt-get update\n",
        "\n",
        "! sudo apt-get install edgetpu-compiler\t"
      ],
      "execution_count": 19,
      "outputs": [
        {
          "output_type": "stream",
          "text": [
            "  % Total    % Received % Xferd  Average Speed   Time    Time     Time  Current\n",
            "                                 Dload  Upload   Total   Spent    Left  Speed\n",
            "\r  0     0    0     0    0     0      0      0 --:--:-- --:--:-- --:--:--     0\r100   653  100   653    0     0  31095      0 --:--:-- --:--:-- --:--:-- 31095\n",
            "OK\n",
            "deb https://packages.cloud.google.com/apt coral-edgetpu-stable main\n",
            "Get:1 https://cloud.r-project.org/bin/linux/ubuntu bionic-cran40/ InRelease [3,626 B]\n",
            "Ign:2 https://developer.download.nvidia.com/compute/cuda/repos/ubuntu1804/x86_64  InRelease\n",
            "Ign:3 https://developer.download.nvidia.com/compute/machine-learning/repos/ubuntu1804/x86_64  InRelease\n",
            "Get:4 https://developer.download.nvidia.com/compute/cuda/repos/ubuntu1804/x86_64  Release [697 B]\n",
            "Hit:5 https://developer.download.nvidia.com/compute/machine-learning/repos/ubuntu1804/x86_64  Release\n",
            "Get:6 https://developer.download.nvidia.com/compute/cuda/repos/ubuntu1804/x86_64  Release.gpg [836 B]\n",
            "Get:7 https://packages.cloud.google.com/apt coral-edgetpu-stable InRelease [6,332 B]\n",
            "Hit:9 http://ppa.launchpad.net/c2d4u.team/c2d4u4.0+/ubuntu bionic InRelease\n",
            "Get:10 http://security.ubuntu.com/ubuntu bionic-security InRelease [88.7 kB]\n",
            "Hit:11 http://archive.ubuntu.com/ubuntu bionic InRelease\n",
            "Ign:12 https://developer.download.nvidia.com/compute/cuda/repos/ubuntu1804/x86_64  Packages\n",
            "Get:12 https://developer.download.nvidia.com/compute/cuda/repos/ubuntu1804/x86_64  Packages [405 kB]\n",
            "Get:13 https://packages.cloud.google.com/apt coral-edgetpu-stable/main amd64 Packages [1,284 B]\n",
            "Get:14 http://archive.ubuntu.com/ubuntu bionic-updates InRelease [88.7 kB]\n",
            "Hit:15 http://ppa.launchpad.net/graphics-drivers/ppa/ubuntu bionic InRelease\n",
            "Get:16 http://security.ubuntu.com/ubuntu bionic-security/main amd64 Packages [1,748 kB]\n",
            "Get:17 http://archive.ubuntu.com/ubuntu bionic-backports InRelease [74.6 kB]\n",
            "Get:18 http://archive.ubuntu.com/ubuntu bionic-updates/universe amd64 Packages [2,118 kB]\n",
            "Get:19 http://security.ubuntu.com/ubuntu bionic-security/universe amd64 Packages [1,353 kB]\n",
            "Get:20 http://archive.ubuntu.com/ubuntu bionic-updates/main amd64 Packages [2,165 kB]\n",
            "Fetched 8,053 kB in 2s (3,551 kB/s)\n",
            "Reading package lists... Done\n",
            "Reading package lists... Done\n",
            "Building dependency tree       \n",
            "Reading state information... Done\n",
            "The following additional packages will be installed:\n",
            "  libedgetpu1-std\n",
            "The following NEW packages will be installed:\n",
            "  edgetpu-compiler libedgetpu1-std\n",
            "0 upgraded, 2 newly installed, 0 to remove and 13 not upgraded.\n",
            "Need to get 6,770 kB of archives.\n",
            "After this operation, 25.5 MB of additional disk space will be used.\n",
            "Get:1 https://packages.cloud.google.com/apt coral-edgetpu-stable/main amd64 libedgetpu1-std amd64 14.1 [311 kB]\n",
            "Get:2 https://packages.cloud.google.com/apt coral-edgetpu-stable/main amd64 edgetpu-compiler amd64 14.1 [6,458 kB]\n",
            "Fetched 6,770 kB in 1s (9,695 kB/s)\n",
            "debconf: unable to initialize frontend: Dialog\n",
            "debconf: (No usable dialog-like program is installed, so the dialog based frontend cannot be used. at /usr/share/perl5/Debconf/FrontEnd/Dialog.pm line 76, <> line 2.)\n",
            "debconf: falling back to frontend: Readline\n",
            "debconf: unable to initialize frontend: Readline\n",
            "debconf: (This frontend requires a controlling tty.)\n",
            "debconf: falling back to frontend: Teletype\n",
            "dpkg-preconfigure: unable to re-open stdin: \n",
            "Selecting previously unselected package libedgetpu1-std:amd64.\n",
            "(Reading database ... 144628 files and directories currently installed.)\n",
            "Preparing to unpack .../libedgetpu1-std_14.1_amd64.deb ...\n",
            "Unpacking libedgetpu1-std:amd64 (14.1) ...\n",
            "Selecting previously unselected package edgetpu-compiler.\n",
            "Preparing to unpack .../edgetpu-compiler_14.1_amd64.deb ...\n",
            "Unpacking edgetpu-compiler (14.1) ...\n",
            "Setting up libedgetpu1-std:amd64 (14.1) ...\n",
            "Setting up edgetpu-compiler (14.1) ...\n",
            "Processing triggers for libc-bin (2.27-3ubuntu1.2) ...\n",
            "/sbin/ldconfig.real: /usr/local/lib/python3.6/dist-packages/ideep4py/lib/libmkldnn.so.0 is not a symbolic link\n",
            "\n"
          ],
          "name": "stdout"
        }
      ]
    },
    {
      "cell_type": "code",
      "metadata": {
        "id": "8H7HZPZhwBqo",
        "outputId": "b184dad5-98d5-483c-fa7b-41c06d4d3559",
        "colab": {
          "base_uri": "https://localhost:8080/"
        }
      },
      "source": [
        "! edgetpu_compiler mobilenet_v2_2class-daynight_quant-1.tflite"
      ],
      "execution_count": 20,
      "outputs": [
        {
          "output_type": "stream",
          "text": [
            "Edge TPU Compiler version 14.1.317412892\n",
            "\n",
            "Model compiled successfully in 465 ms.\n",
            "\n",
            "Input model: mobilenet_v2_2class-daynight_quant-1.tflite\n",
            "Input size: 2.72MiB\n",
            "Output model: mobilenet_v2_2class-daynight_quant-1_edgetpu.tflite\n",
            "Output size: 2.81MiB\n",
            "On-chip memory used for caching model parameters: 2.71MiB\n",
            "On-chip memory remaining for caching model parameters: 2.94MiB\n",
            "Off-chip memory used for streaming uncached model parameters: 0.00B\n",
            "Number of Edge TPU subgraphs: 1\n",
            "Total number of operations: 72\n",
            "Operation log: mobilenet_v2_2class-daynight_quant-1_edgetpu.log\n",
            "See the operation log file for individual operation details.\n"
          ],
          "name": "stdout"
        }
      ]
    },
    {
      "cell_type": "code",
      "metadata": {
        "id": "k32D6ZVwwyuv"
      },
      "source": [
        ""
      ],
      "execution_count": null,
      "outputs": []
    }
  ]
}