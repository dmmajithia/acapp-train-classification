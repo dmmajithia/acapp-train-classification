{
  "nbformat": 4,
  "nbformat_minor": 0,
  "metadata": {
    "kernelspec": {
      "display_name": "Python 3",
      "language": "python",
      "name": "python3"
    },
    "language_info": {
      "codemirror_mode": {
        "name": "ipython",
        "version": 3
      },
      "file_extension": ".py",
      "mimetype": "text/x-python",
      "name": "python",
      "nbconvert_exporter": "python",
      "pygments_lexer": "ipython3",
      "version": "3.7.9"
    },
    "colab": {
      "name": "acapp coal training.ipynb",
      "provenance": []
    },
    "accelerator": "GPU"
  },
  "cells": [
    {
      "cell_type": "code",
      "metadata": {
        "id": "vRrrE_cG6EEs"
      },
      "source": [
        "import os\n",
        "# os.environ[\"KERAS_BACKEND\"] = \"plaidml.keras.backend\"\n",
        "import tensorflow.keras as keras\n",
        "from keras.models import load_model\n",
        "from keras.preprocessing.image import ImageDataGenerator\n",
        "\n",
        "import numpy as np\n",
        "import cv2\n",
        "import os\n",
        "import matplotlib.pyplot as plt\n",
        "%matplotlib inline\n",
        "\n",
        "from keras.models import Sequential\n",
        "from keras.layers import Dense, Conv2D, Dropout, Flatten, MaxPooling2D, BatchNormalization"
      ],
      "execution_count": 1,
      "outputs": []
    },
    {
      "cell_type": "code",
      "metadata": {
        "id": "g8iqjTI86EEx"
      },
      "source": [
        "train_data_dir = '/content/acapp-train-classification/acapp_data/training_images/'"
      ],
      "execution_count": 2,
      "outputs": []
    },
    {
      "cell_type": "code",
      "metadata": {
        "id": "i2GT7RW96mXt",
        "outputId": "17924906-66c4-46b0-b8d4-98f1218ba7ab",
        "colab": {
          "base_uri": "https://localhost:8080/",
          "height": 153
        }
      },
      "source": [
        "!git clone https://github.com/dmmajithia/acapp-train-classification.git"
      ],
      "execution_count": 3,
      "outputs": [
        {
          "output_type": "stream",
          "text": [
            "Cloning into 'acapp-train-classification'...\n",
            "remote: Enumerating objects: 12, done.\u001b[K\n",
            "remote: Counting objects: 100% (12/12), done.\u001b[K\n",
            "remote: Compressing objects: 100% (12/12), done.\u001b[K\n",
            "remote: Total 44064 (delta 5), reused 0 (delta 0), pack-reused 44052\u001b[K\n",
            "Receiving objects: 100% (44064/44064), 704.53 MiB | 37.83 MiB/s, done.\n",
            "Resolving deltas: 100% (15/15), done.\n",
            "Checking out files: 100% (43326/43326), done.\n"
          ],
          "name": "stdout"
        }
      ]
    },
    {
      "cell_type": "code",
      "metadata": {
        "id": "YKvBAbWNMFeR",
        "outputId": "cbdff5fa-8ae7-48db-8b86-bd5cb1d370fb",
        "colab": {
          "base_uri": "https://localhost:8080/",
          "height": 34
        }
      },
      "source": [
        "!ls /content/acapp-train-classification/acapp_data/training_images/no_train | wc -l"
      ],
      "execution_count": 10,
      "outputs": [
        {
          "output_type": "stream",
          "text": [
            "751\n"
          ],
          "name": "stdout"
        }
      ]
    },
    {
      "cell_type": "code",
      "metadata": {
        "id": "iaXIeZgk6EE0",
        "outputId": "020cecef-be7c-47be-8d34-9ef91ee54229",
        "colab": {
          "base_uri": "https://localhost:8080/",
          "height": 51
        }
      },
      "source": [
        "img_height, img_width = 300,300\n",
        "batch_size = 200\n",
        "train_datagen = ImageDataGenerator(rescale=1./255,\n",
        "    validation_split=0.3) # set validation split\n",
        "\n",
        "train_generator = train_datagen.flow_from_directory(\n",
        "    train_data_dir,\n",
        "    target_size=(img_height, img_width),\n",
        "    batch_size=batch_size,\n",
        "    shuffle=True,\n",
        "    # class_mode='categorical',\n",
        "    class_mode='sparse',\n",
        "    subset='training') # set as training data\n",
        "\n",
        "validation_generator = train_datagen.flow_from_directory(\n",
        "    train_data_dir, # same directory as training data\n",
        "    target_size=(img_height, img_width),\n",
        "    batch_size=batch_size,\n",
        "    shuffle=True,\n",
        "    # class_mode='categorical',\n",
        "    class_mode='sparse',\n",
        "    subset='validation') # set as validation data"
      ],
      "execution_count": 38,
      "outputs": [
        {
          "output_type": "stream",
          "text": [
            "Found 1593 images belonging to 2 classes.\n",
            "Found 682 images belonging to 2 classes.\n"
          ],
          "name": "stdout"
        }
      ]
    },
    {
      "cell_type": "code",
      "metadata": {
        "id": "gtoILPUi6EE4"
      },
      "source": [
        "# acc = 95-99, batch_size = 100, epochs = 10\n",
        "input_shape = (300, 300, 3)\n",
        "# Creating a Sequential Model and adding the layers\n",
        "model = Sequential()\n",
        "model.add(Conv2D(32, kernel_size=(3,3), input_shape=input_shape,activation='relu'))\n",
        "model.add(MaxPooling2D(pool_size=(2, 2)))\n",
        "model.add(Conv2D(32, kernel_size=(3,3), input_shape=input_shape))\n",
        "model.add(MaxPooling2D(pool_size=(2, 2)))\n",
        "model.add(Conv2D(64, kernel_size=(3,3),activation='relu'))\n",
        "model.add(MaxPooling2D(pool_size=(2, 2)))\n",
        "model.add(Conv2D(64, kernel_size=(3,3),activation='relu'))\n",
        "model.add(MaxPooling2D(pool_size=(2, 2)))\n",
        "model.add(Flatten()) # Flattening the 2D arrays for fully connected layers\n",
        "model.add(Dense(64, activation='relu'))\n",
        "# model.add(Dropout(0.1))\n",
        "# model.add(Dense(64, activation='relu'))\n",
        "# model.add(Dense(128, activation='relu'))\n",
        "# model.add(Dropout(0.2))\n",
        "model.add(Dense(2,activation='softmax'))"
      ],
      "execution_count": 39,
      "outputs": []
    },
    {
      "cell_type": "code",
      "metadata": {
        "id": "TSyZBFAoCOeO"
      },
      "source": [
        "# input_shape = (300, 300, 3)\n",
        "# # Creating a Sequential Model and adding the layers\n",
        "# model = Sequential()\n",
        "# model.add(Conv2D(32, kernel_size=(3,3), input_shape=input_shape))\n",
        "# model.add(MaxPooling2D(pool_size=(2, 2)))\n",
        "# model.add(Conv2D(32, kernel_size=(3,3)))\n",
        "# model.add(MaxPooling2D(pool_size=(2, 2)))\n",
        "# # model.add(Conv2D(64, kernel_size=(3,3)))\n",
        "# # model.add(MaxPooling2D(pool_size=(2, 2)))\n",
        "# # model.add(Conv2D(128, kernel_size=(3,3)))\n",
        "# # model.add(MaxPooling2D(pool_size=(2, 2)))\n",
        "# model.add(Flatten()) # Flattening the 2D arrays for fully connected layers\n",
        "# model.add(Dense(64, activation='relu'))\n",
        "# model.add(Dropout(0.1))\n",
        "# # model.add(Dense(128, activation='relu'))\n",
        "# # model.add(Dropout(0.2))\n",
        "# model.add(Dense(5,activation='softmax'))"
      ],
      "execution_count": 40,
      "outputs": []
    },
    {
      "cell_type": "code",
      "metadata": {
        "id": "To3RyT1u6EE7"
      },
      "source": [
        "model.compile(optimizer='adam', \n",
        "              loss='sparse_categorical_crossentropy', \n",
        "              # loss='kullback_leibler_divergence',\n",
        "              metrics=['accuracy'])"
      ],
      "execution_count": 41,
      "outputs": []
    },
    {
      "cell_type": "code",
      "metadata": {
        "id": "KQm1vPu16EE-",
        "outputId": "cb3efa34-3587-4509-cd1a-c0b17f43e274",
        "colab": {
          "base_uri": "https://localhost:8080/",
          "height": 734
        }
      },
      "source": [
        "epochs = 20\n",
        "\n",
        "history = model.fit_generator(\n",
        "    train_generator,\n",
        "    steps_per_epoch=int(np.ceil(train_generator.n / float(batch_size))),\n",
        "    epochs=epochs,\n",
        "    validation_data=validation_generator,\n",
        "    validation_steps=int(np.ceil(validation_generator.n / float(batch_size)))\n",
        ")"
      ],
      "execution_count": 42,
      "outputs": [
        {
          "output_type": "stream",
          "text": [
            "Epoch 1/20\n",
            "2/8 [======>.......................] - ETA: 1s - loss: 0.8594 - accuracy: 0.5000WARNING:tensorflow:Callbacks method `on_train_batch_end` is slow compared to the batch time (batch time: 0.1287s vs `on_train_batch_end` time: 0.2387s). Check your callbacks.\n",
            "8/8 [==============================] - 8s 1s/step - loss: 0.7067 - accuracy: 0.5750 - val_loss: 0.6088 - val_accuracy: 0.6701\n",
            "Epoch 2/20\n",
            "8/8 [==============================] - 7s 825ms/step - loss: 0.5712 - accuracy: 0.6943 - val_loss: 0.4164 - val_accuracy: 0.8460\n",
            "Epoch 3/20\n",
            "8/8 [==============================] - 7s 827ms/step - loss: 0.4430 - accuracy: 0.7753 - val_loss: 0.3158 - val_accuracy: 0.8710\n",
            "Epoch 4/20\n",
            "8/8 [==============================] - 7s 833ms/step - loss: 0.2769 - accuracy: 0.8920 - val_loss: 0.2322 - val_accuracy: 0.8812\n",
            "Epoch 5/20\n",
            "8/8 [==============================] - 7s 820ms/step - loss: 0.1763 - accuracy: 0.9335 - val_loss: 0.1304 - val_accuracy: 0.9487\n",
            "Epoch 6/20\n",
            "8/8 [==============================] - 7s 818ms/step - loss: 0.1163 - accuracy: 0.9479 - val_loss: 0.1763 - val_accuracy: 0.9282\n",
            "Epoch 7/20\n",
            "8/8 [==============================] - 7s 822ms/step - loss: 0.0633 - accuracy: 0.9812 - val_loss: 0.1466 - val_accuracy: 0.9340\n",
            "Epoch 8/20\n",
            "8/8 [==============================] - 7s 827ms/step - loss: 0.0450 - accuracy: 0.9843 - val_loss: 0.1418 - val_accuracy: 0.9545\n",
            "Epoch 9/20\n",
            "8/8 [==============================] - 7s 816ms/step - loss: 0.0408 - accuracy: 0.9862 - val_loss: 0.1157 - val_accuracy: 0.9707\n",
            "Epoch 10/20\n",
            "8/8 [==============================] - 7s 818ms/step - loss: 0.0349 - accuracy: 0.9893 - val_loss: 0.1138 - val_accuracy: 0.9765\n",
            "Epoch 11/20\n",
            "8/8 [==============================] - 7s 821ms/step - loss: 0.0284 - accuracy: 0.9962 - val_loss: 0.1149 - val_accuracy: 0.9795\n",
            "Epoch 12/20\n",
            "8/8 [==============================] - 7s 815ms/step - loss: 0.0246 - accuracy: 0.9962 - val_loss: 0.1027 - val_accuracy: 0.9853\n",
            "Epoch 13/20\n",
            "8/8 [==============================] - 7s 818ms/step - loss: 0.0209 - accuracy: 0.9969 - val_loss: 0.0977 - val_accuracy: 0.9912\n",
            "Epoch 14/20\n",
            "8/8 [==============================] - 7s 822ms/step - loss: 0.0223 - accuracy: 0.9962 - val_loss: 0.1276 - val_accuracy: 0.9765\n",
            "Epoch 15/20\n",
            "8/8 [==============================] - 7s 823ms/step - loss: 0.0187 - accuracy: 0.9969 - val_loss: 0.1001 - val_accuracy: 0.9853\n",
            "Epoch 16/20\n",
            "8/8 [==============================] - 7s 817ms/step - loss: 0.0143 - accuracy: 0.9981 - val_loss: 0.0967 - val_accuracy: 0.9927\n",
            "Epoch 17/20\n",
            "8/8 [==============================] - 7s 823ms/step - loss: 0.0094 - accuracy: 0.9981 - val_loss: 0.1079 - val_accuracy: 0.9897\n",
            "Epoch 18/20\n",
            "8/8 [==============================] - 7s 833ms/step - loss: 0.0081 - accuracy: 0.9981 - val_loss: 0.2690 - val_accuracy: 0.8930\n",
            "Epoch 19/20\n",
            "8/8 [==============================] - 7s 823ms/step - loss: 0.0208 - accuracy: 0.9931 - val_loss: 0.1423 - val_accuracy: 0.9648\n",
            "Epoch 20/20\n",
            "8/8 [==============================] - 7s 820ms/step - loss: 0.0361 - accuracy: 0.9856 - val_loss: 0.1144 - val_accuracy: 0.9839\n"
          ],
          "name": "stdout"
        }
      ]
    },
    {
      "cell_type": "code",
      "metadata": {
        "id": "jXGVov3q6EFB",
        "outputId": "20f55d1a-b2e6-4781-9d75-1b1d84d10c5e",
        "colab": {
          "base_uri": "https://localhost:8080/",
          "height": 295
        }
      },
      "source": [
        "# summarize history for accuracy\n",
        "plt.plot(history.history['accuracy'])\n",
        "plt.plot(history.history['val_accuracy'])\n",
        "plt.title('model accuracy')\n",
        "plt.ylabel('accuracy')\n",
        "plt.xlabel('epoch')\n",
        "plt.legend(['train', 'val'], loc='upper left')\n",
        "plt.show()"
      ],
      "execution_count": 43,
      "outputs": [
        {
          "output_type": "display_data",
          "data": {
            "image/png": "[encoded data removed]",
            "text/plain": [
              "<Figure size 432x288 with 1 Axes>"
            ]
          },
          "metadata": {
            "tags": [],
            "needs_background": "light"
          }
        }
      ]
    },
    {
      "cell_type": "code",
      "metadata": {
        "id": "4BneoyexGXJS",
        "outputId": "b3c2f028-68d4-46b4-fe91-31f6680f2a90",
        "colab": {
          "base_uri": "https://localhost:8080/",
          "height": 295
        }
      },
      "source": [
        "# summarize history for loss\n",
        "plt.plot(history.history['loss'])\n",
        "plt.plot(history.history['val_loss'])\n",
        "plt.title('model loss')\n",
        "plt.ylabel('loss')\n",
        "plt.xlabel('epoch')\n",
        "plt.legend(['train', 'val'], loc='upper left')\n",
        "plt.show()"
      ],
      "execution_count": 44,
      "outputs": [
        {
          "output_type": "display_data",
          "data": {
            "image/png": "[encoded data removed]",
            "text/plain": [
              "<Figure size 432x288 with 1 Axes>"
            ]
          },
          "metadata": {
            "tags": [],
            "needs_background": "light"
          }
        }
      ]
    },
    {
      "cell_type": "code",
      "metadata": {
        "id": "_0ydS_KoGfdg"
      },
      "source": [
        ""
      ],
      "execution_count": null,
      "outputs": []
    }
  ]
}